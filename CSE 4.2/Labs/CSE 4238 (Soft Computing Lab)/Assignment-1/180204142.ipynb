{
  "nbformat": 4,
  "nbformat_minor": 0,
  "metadata": {
    "colab": {
      "provenance": []
    },
    "kernelspec": {
      "name": "python3",
      "display_name": "Python 3"
    },
    "language_info": {
      "name": "python"
    }
  },
  "cells": [
    {
      "cell_type": "code",
      "execution_count": 1,
      "metadata": {
        "id": "gwjzMm0mwALk"
      },
      "outputs": [],
      "source": [
        "import torch\n",
        "import torch.nn as nn\n",
        "import torch.nn.functional as F\n",
        "import torchvision\n",
        "import torchvision.transforms as transforms\n",
        "import torchvision.datasets as dsets\n",
        "import numpy as np"
      ]
    },
    {
      "cell_type": "code",
      "source": [
        "from google.colab import drive\n",
        "drive.mount('/content/drive')"
      ],
      "metadata": {
        "colab": {
          "base_uri": "https://localhost:8080/"
        },
        "id": "050sjVc-A2-M",
        "outputId": "1c1af554-3c79-400e-a9b4-caa631bc1e1a"
      },
      "execution_count": 2,
      "outputs": [
        {
          "output_type": "stream",
          "name": "stdout",
          "text": [
            "Mounted at /content/drive\n"
          ]
        }
      ]
    },
    {
      "cell_type": "code",
      "source": [
        "trnN = np.load(\"/content/drive/MyDrive/Softcom Lab/Chest X-Rays Dataset/train_Normal_128.npy\")\n",
        "trnV = np.load(\"/content/drive/MyDrive/Softcom Lab/Chest X-Rays Dataset/train_Virus_128.npy\")\n",
        "tstN = np.load(\"/content/drive/MyDrive/Softcom Lab/Chest X-Rays Dataset/test_Normal_128.npy\")\n",
        "tstV = np.load(\"/content/drive/MyDrive/Softcom Lab/Chest X-Rays Dataset/test_Virus_128.npy\")"
      ],
      "metadata": {
        "id": "LDTgbvvfwLTk"
      },
      "execution_count": 3,
      "outputs": []
    },
    {
      "cell_type": "code",
      "source": [
        "print(np.shape(trnN))\n",
        "print(np.shape(tstN))\n",
        "print(np.shape(trnV))\n",
        "print(np.shape(tstV))"
      ],
      "metadata": {
        "colab": {
          "base_uri": "https://localhost:8080/"
        },
        "id": "ZEQX7n9vCYdA",
        "outputId": "74a96bb9-04c4-4ec2-9f22-c6306dc03f3f"
      },
      "execution_count": 4,
      "outputs": [
        {
          "output_type": "stream",
          "name": "stdout",
          "text": [
            "(1341, 128, 128, 1)\n",
            "(234, 128, 128, 1)\n",
            "(1345, 128, 128, 1)\n",
            "(148, 128, 128, 1)\n"
          ]
        }
      ]
    },
    {
      "cell_type": "code",
      "source": [
        "trnn = torch.from_numpy(trnN)\n",
        "tstn = tstN.astype(np.float32)\n",
        "tstn = torch.from_numpy(tstn)\n",
        "trnv = torch.from_numpy(trnV)\n",
        "tstv = torch.from_numpy(tstV)"
      ],
      "metadata": {
        "id": "N9Kt2L-NwRhY"
      },
      "execution_count": 5,
      "outputs": []
    },
    {
      "cell_type": "code",
      "source": [
        "trnnlbl = torch.zeros(len(trnn))\n",
        "tstnlbl = torch.zeros(len(tstn))\n",
        "trnvlbl = torch.ones(len(trnv))\n",
        "tstvlbl = torch.ones(len(tstv))"
      ],
      "metadata": {
        "id": "4uqnb28rwU0Z"
      },
      "execution_count": 6,
      "outputs": []
    },
    {
      "cell_type": "code",
      "source": [
        "#Mixing\n",
        "trn_data = torch.cat((trnn, trnv), axis=0)\n",
        "trn_label = torch.cat((trnnlbl, trnvlbl), axis=0)\n",
        "\n",
        "tst_data = torch.cat((tstn, tstv), axis=0)\n",
        "tst_label = torch.cat((tstnlbl, tstvlbl), axis=0)"
      ],
      "metadata": {
        "id": "A-gyrL7swaZD"
      },
      "execution_count": 7,
      "outputs": []
    },
    {
      "cell_type": "code",
      "source": [
        "trn_data.shape"
      ],
      "metadata": {
        "colab": {
          "base_uri": "https://localhost:8080/"
        },
        "id": "wjXyraElwfI9",
        "outputId": "12d29210-d8a1-496e-cb26-b45ca5472689"
      },
      "execution_count": 8,
      "outputs": [
        {
          "output_type": "execute_result",
          "data": {
            "text/plain": [
              "torch.Size([2686, 128, 128, 1])"
            ]
          },
          "metadata": {},
          "execution_count": 8
        }
      ]
    },
    {
      "cell_type": "code",
      "source": [
        "tst_data.shape"
      ],
      "metadata": {
        "colab": {
          "base_uri": "https://localhost:8080/"
        },
        "id": "HDQYeYwEwiaM",
        "outputId": "d4c3325e-2007-4e3f-cf32-57c758746af1"
      },
      "execution_count": 9,
      "outputs": [
        {
          "output_type": "execute_result",
          "data": {
            "text/plain": [
              "torch.Size([382, 128, 128, 1])"
            ]
          },
          "metadata": {},
          "execution_count": 9
        }
      ]
    },
    {
      "cell_type": "code",
      "source": [
        "trn_data = torch.reshape(trn_data, (2686,1,128,128))"
      ],
      "metadata": {
        "id": "cUH5t9m1wkxS"
      },
      "execution_count": 10,
      "outputs": []
    },
    {
      "cell_type": "code",
      "source": [
        "trn_data.shape"
      ],
      "metadata": {
        "colab": {
          "base_uri": "https://localhost:8080/"
        },
        "id": "y7D-hLCgwno4",
        "outputId": "c012a9ae-82c7-48c8-9c8d-ed504224f1b5"
      },
      "execution_count": 11,
      "outputs": [
        {
          "output_type": "execute_result",
          "data": {
            "text/plain": [
              "torch.Size([2686, 1, 128, 128])"
            ]
          },
          "metadata": {},
          "execution_count": 11
        }
      ]
    },
    {
      "cell_type": "code",
      "source": [
        "tst_data = torch.reshape(tst_data,(382,1,128,128))"
      ],
      "metadata": {
        "id": "S8PU8Hw9wp4N"
      },
      "execution_count": 12,
      "outputs": []
    },
    {
      "cell_type": "code",
      "source": [
        "tst_data.shape"
      ],
      "metadata": {
        "colab": {
          "base_uri": "https://localhost:8080/"
        },
        "id": "wCBwIpNaIR-C",
        "outputId": "20fba183-3e6e-478d-f364-f88a5c58fb32"
      },
      "execution_count": 13,
      "outputs": [
        {
          "output_type": "execute_result",
          "data": {
            "text/plain": [
              "torch.Size([382, 1, 128, 128])"
            ]
          },
          "metadata": {},
          "execution_count": 13
        }
      ]
    },
    {
      "cell_type": "code",
      "source": [
        "torch.manual_seed(20)"
      ],
      "metadata": {
        "colab": {
          "base_uri": "https://localhost:8080/"
        },
        "id": "yGD2oTQ6wvVT",
        "outputId": "0f012d23-f262-4f38-88b6-cf397b3d89c6"
      },
      "execution_count": 14,
      "outputs": [
        {
          "output_type": "execute_result",
          "data": {
            "text/plain": [
              "<torch._C.Generator at 0x7fbbdee781b0>"
            ]
          },
          "metadata": {},
          "execution_count": 14
        }
      ]
    },
    {
      "cell_type": "code",
      "source": [
        "x=int(torch.rand(1,)*1000)\n",
        "print(x)"
      ],
      "metadata": {
        "colab": {
          "base_uri": "https://localhost:8080/"
        },
        "id": "CCrRUsx8w380",
        "outputId": "3d870f71-819a-43cb-be17-8d1c692cc8b0"
      },
      "execution_count": 15,
      "outputs": [
        {
          "output_type": "stream",
          "name": "stdout",
          "text": [
            "561\n"
          ]
        }
      ]
    },
    {
      "cell_type": "code",
      "source": [
        "trn_data = [trn_data[i] for i in range(len(trn_data))]\n",
        "train = torch.stack([d[0] for d in trn_data], dim=0)\n",
        "#train=train[72:x]        \n",
        "\n",
        "\n",
        "tst_data = [tst_data[i] for i in range(len(tst_data))]\n",
        "test = torch.stack([d[0] for d in tst_data], dim=0)       \n",
        "#test=test[0:382]\n",
        "\n",
        "train_y = trn_label  \n",
        "test_y = tst_label "
      ],
      "metadata": {
        "id": "ZrO1Vaziw6u5"
      },
      "execution_count": 16,
      "outputs": []
    },
    {
      "cell_type": "code",
      "source": [
        "print(train_y.shape)\n",
        "print(train.shape)"
      ],
      "metadata": {
        "colab": {
          "base_uri": "https://localhost:8080/"
        },
        "id": "mG6-1yTO1XnV",
        "outputId": "d010e2e7-ed66-4c12-f34a-ebcb5a4b9af2"
      },
      "execution_count": 17,
      "outputs": [
        {
          "output_type": "stream",
          "name": "stdout",
          "text": [
            "torch.Size([2686])\n",
            "torch.Size([2686, 128, 128])\n"
          ]
        }
      ]
    },
    {
      "cell_type": "code",
      "source": [
        "train_loader = torch.utils.data.DataLoader(dataset= (train,train_y) , \n",
        "                                           batch_size=100, \n",
        "                                           shuffle=True)   # It's better to shuffle the whole training dataset! \n",
        "\n",
        "test_loader = torch.utils.data.DataLoader(dataset= (test,test_y), \n",
        "                                          batch_size=100, \n",
        "                                          shuffle=False)"
      ],
      "metadata": {
        "id": "YITaetgQxJEE"
      },
      "execution_count": 18,
      "outputs": []
    },
    {
      "cell_type": "code",
      "source": [
        "train_y"
      ],
      "metadata": {
        "colab": {
          "base_uri": "https://localhost:8080/"
        },
        "id": "biwspEhMxKCn",
        "outputId": "82ebd661-0620-4174-a547-ecfe8ac3482e"
      },
      "execution_count": 19,
      "outputs": [
        {
          "output_type": "execute_result",
          "data": {
            "text/plain": [
              "tensor([0., 0., 0.,  ..., 1., 1., 1.])"
            ]
          },
          "metadata": {},
          "execution_count": 19
        }
      ]
    },
    {
      "cell_type": "code",
      "source": [
        "class NeuralNetwork(nn.Module):\n",
        "    def __init__(self, input_dim):\n",
        "        super(NeuralNetwork, self).__init__()\n",
        "        self.cnn_layer_1 = nn.Conv2d(in_channels=1, out_channels=16,kernel_size=5, stride=1, padding=2)\n",
        "        self.cnn_layer_2 = nn.Conv2d(in_channels=16, out_channels=32,kernel_size=5, stride=1, padding=2)\n",
        "        \n",
        "        self.flatten = nn.Flatten()\n",
        "        self.maxpool = nn.MaxPool2d(2,2)\n",
        "        \n",
        "        self.linear_layer_1 = nn.Linear(32*32*32, 512) \n",
        "        self.linear_layer_2 = nn.Linear(512, 128)\n",
        "        self.linear_layer_3 = nn.Linear(128, 2)   \n",
        "        \n",
        "        self.relu = nn.LeakyReLU()\n",
        "        self.sigmoid = nn.Sigmoid()\n",
        "        self.dropout = nn.Dropout(.25)\n",
        "        \n",
        "        # self.flatten = nn.Flatten()\n",
        "        \n",
        "    def forward(self, x):\n",
        "\n",
        "        x = self.cnn_layer_1(x)\n",
        "        x = self.dropout(x)\n",
        "        x = self.relu(x)\n",
        "        x = self.maxpool(x)\n",
        "        \n",
        "        #print(x.shape)\n",
        "        \n",
        "        x = self.cnn_layer_2(x)\n",
        "        x = self.dropout(x)\n",
        "        x = self.relu(x)\n",
        "        x = self.maxpool(x)\n",
        "        \n",
        "        #print(x.shape)\n",
        "        \n",
        "        x = self.flatten(x)\n",
        "        #print(x.shape)\n",
        "        \n",
        "        x = self.linear_layer_1(x)\n",
        "        x = self.dropout(x)\n",
        "        x = self.relu(x)\n",
        "        \n",
        "        x = self.linear_layer_2(x)\n",
        "        x = self.dropout(x)\n",
        "        x = self.relu(x)\n",
        "        \n",
        "        x = self.linear_layer_3(x)\n",
        "        #logits = self.sigmoid(x)\n",
        "        return x"
      ],
      "metadata": {
        "id": "xgl9jSN3xNGQ"
      },
      "execution_count": 20,
      "outputs": []
    },
    {
      "cell_type": "code",
      "source": [
        "model = NeuralNetwork(16384)\n",
        "print(model)"
      ],
      "metadata": {
        "colab": {
          "base_uri": "https://localhost:8080/"
        },
        "id": "GX2Wt7UOxXPB",
        "outputId": "9f2651b1-020d-4d39-c6ea-102f67d05e09"
      },
      "execution_count": 21,
      "outputs": [
        {
          "output_type": "stream",
          "name": "stdout",
          "text": [
            "NeuralNetwork(\n",
            "  (cnn_layer_1): Conv2d(1, 16, kernel_size=(5, 5), stride=(1, 1), padding=(2, 2))\n",
            "  (cnn_layer_2): Conv2d(16, 32, kernel_size=(5, 5), stride=(1, 1), padding=(2, 2))\n",
            "  (flatten): Flatten(start_dim=1, end_dim=-1)\n",
            "  (maxpool): MaxPool2d(kernel_size=2, stride=2, padding=0, dilation=1, ceil_mode=False)\n",
            "  (linear_layer_1): Linear(in_features=32768, out_features=512, bias=True)\n",
            "  (linear_layer_2): Linear(in_features=512, out_features=128, bias=True)\n",
            "  (linear_layer_3): Linear(in_features=128, out_features=2, bias=True)\n",
            "  (relu): LeakyReLU(negative_slope=0.01)\n",
            "  (sigmoid): Sigmoid()\n",
            "  (dropout): Dropout(p=0.25, inplace=False)\n",
            ")\n"
          ]
        }
      ]
    },
    {
      "cell_type": "code",
      "source": [
        "from torchsummary import summary\n",
        "summary(model,(1,128,128))"
      ],
      "metadata": {
        "colab": {
          "base_uri": "https://localhost:8080/"
        },
        "id": "mm4Zad9YxYrj",
        "outputId": "e693fd52-b37f-49c2-be2f-68cc8fb9856d"
      },
      "execution_count": 22,
      "outputs": [
        {
          "output_type": "stream",
          "name": "stdout",
          "text": [
            "----------------------------------------------------------------\n",
            "        Layer (type)               Output Shape         Param #\n",
            "================================================================\n",
            "            Conv2d-1         [-1, 16, 128, 128]             416\n",
            "           Dropout-2         [-1, 16, 128, 128]               0\n",
            "         LeakyReLU-3         [-1, 16, 128, 128]               0\n",
            "         MaxPool2d-4           [-1, 16, 64, 64]               0\n",
            "            Conv2d-5           [-1, 32, 64, 64]          12,832\n",
            "           Dropout-6           [-1, 32, 64, 64]               0\n",
            "         LeakyReLU-7           [-1, 32, 64, 64]               0\n",
            "         MaxPool2d-8           [-1, 32, 32, 32]               0\n",
            "           Flatten-9                [-1, 32768]               0\n",
            "           Linear-10                  [-1, 512]      16,777,728\n",
            "          Dropout-11                  [-1, 512]               0\n",
            "        LeakyReLU-12                  [-1, 512]               0\n",
            "           Linear-13                  [-1, 128]          65,664\n",
            "          Dropout-14                  [-1, 128]               0\n",
            "        LeakyReLU-15                  [-1, 128]               0\n",
            "           Linear-16                    [-1, 2]             258\n",
            "================================================================\n",
            "Total params: 16,856,898\n",
            "Trainable params: 16,856,898\n",
            "Non-trainable params: 0\n",
            "----------------------------------------------------------------\n",
            "Input size (MB): 0.06\n",
            "Forward/backward pass size (MB): 10.01\n",
            "Params size (MB): 64.30\n",
            "Estimated Total Size (MB): 74.38\n",
            "----------------------------------------------------------------\n"
          ]
        }
      ]
    },
    {
      "cell_type": "code",
      "source": [
        "loss_fn = nn.CrossEntropyLoss()\n",
        "optimizer = torch.optim.SGD(model.parameters(), lr=.001)"
      ],
      "metadata": {
        "id": "ALzo0d9IxbmO"
      },
      "execution_count": 23,
      "outputs": []
    },
    {
      "cell_type": "code",
      "source": [
        "def trainModel(model, loss_fn, optimizer):\n",
        "    model.train()\n",
        "\n",
        "    batch = 100\n",
        "\n",
        "    loss = 0\n",
        "    for i in range(train.shape[0]):\n",
        "      x, y = torch.reshape(train[i],(1,1,128,128)), torch.tensor([train_y[i]], dtype=torch.float)\n",
        "      label=torch.zeros([1,2,], dtype=torch.float32)\n",
        "      label[0,int(y.item())]=1\n",
        "      # Compute prediction error\n",
        "      pred = model(x)     \n",
        "      #print(pred)\n",
        "      #print(label)\n",
        "      loss += loss_fn(pred, label)\n",
        "      \n",
        "      if i>0 and (i+1)%batch == 0:\n",
        "          # Backpropagation\n",
        "          optimizer.zero_grad()\n",
        "          loss.backward()\n",
        "          optimizer.step()\n",
        "          print(f'Training Loss: {loss.item():.4f}', end=\"\\r\")\n",
        "          loss = 0\n",
        "    print()"
      ],
      "metadata": {
        "id": "GyqasI7nxgMp"
      },
      "execution_count": 24,
      "outputs": []
    },
    {
      "cell_type": "code",
      "source": [
        "def testModel(model, loss_fn):\n",
        "    model.eval()\n",
        "\n",
        "    size = test.shape[0]\n",
        "    correct=0\n",
        "    loss = 0\n",
        "    total =382\n",
        "    with torch.no_grad():\n",
        "      for i in range(test.shape[0]):\n",
        "        x, y = torch.reshape(test[i],(1,1,128,128)), torch.tensor([test_y[i]], dtype=torch.float)\n",
        "        label=torch.zeros([1,2,], dtype=torch.float32)\n",
        "        label[0,int(y.item())]=1\n",
        "        pred = model(x)\n",
        "        #print(pred)\n",
        "        predicted = torch.argmax(pred)\n",
        "        #print(predicted)\n",
        "        #print(y)\n",
        "\n",
        "\n",
        "        # Total correct predictions\n",
        "        correct += (predicted == int(y)).sum()\n",
        "\n",
        "        loss += loss_fn(pred, label)\n",
        "      \n",
        "    loss /= size\n",
        "    accuracy = 100 * correct.item() / total\n",
        "\n",
        "    # Print Loss\n",
        "    print('Loss: {}. Accuracy: {}'.format({loss}, accuracy))"
      ],
      "metadata": {
        "id": "l9vEUvIoxksn"
      },
      "execution_count": 25,
      "outputs": []
    },
    {
      "cell_type": "code",
      "source": [
        "epochs = 5\n",
        "for t in range(epochs):\n",
        "    print(f\"Epoch {t+1}\\n-------------------------------\")\n",
        "    trainModel(model, loss_fn, optimizer)\n",
        "    testModel(model, loss_fn)\n",
        "print(\"Done!\")"
      ],
      "metadata": {
        "colab": {
          "base_uri": "https://localhost:8080/"
        },
        "id": "563cELoFxmQO",
        "outputId": "ab0595bd-5525-4483-d147-c2d610e8e8a1"
      },
      "execution_count": 26,
      "outputs": [
        {
          "output_type": "stream",
          "name": "stdout",
          "text": [
            "Epoch 1\n",
            "-------------------------------\n",
            "\n",
            "Loss: {tensor(3.0558e+27)}. Accuracy: 38.7434554973822\n",
            "Epoch 2\n",
            "-------------------------------\n",
            "\n",
            "Loss: {tensor(nan)}. Accuracy: 61.2565445026178\n",
            "Epoch 3\n",
            "-------------------------------\n",
            "\n",
            "Loss: {tensor(nan)}. Accuracy: 61.2565445026178\n",
            "Epoch 4\n",
            "-------------------------------\n",
            "\n",
            "Loss: {tensor(nan)}. Accuracy: 61.2565445026178\n",
            "Epoch 5\n",
            "-------------------------------\n",
            "\n",
            "Loss: {tensor(nan)}. Accuracy: 61.2565445026178\n",
            "Done!\n"
          ]
        }
      ]
    }
  ]
}