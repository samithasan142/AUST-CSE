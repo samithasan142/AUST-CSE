{
  "nbformat": 4,
  "nbformat_minor": 0,
  "metadata": {
    "colab": {
      "provenance": []
    },
    "kernelspec": {
      "name": "python3",
      "display_name": "Python 3"
    },
    "language_info": {
      "name": "python"
    }
  },
  "cells": [
    {
      "cell_type": "code",
      "execution_count": null,
      "metadata": {
        "id": "XjmWST1cIbMZ"
      },
      "outputs": [],
      "source": [
        "import numpy as np\n",
        "import torch"
      ]
    },
    {
      "cell_type": "code",
      "source": [
        "X=torch.rand(3,4,4)\n",
        "print(X)\n",
        "A=X[:2,:]\n",
        "B=X[1:,:]\n",
        "\n",
        "#Y=A.t\n",
        "#C=A@Y\n",
        "#C=C-B\n",
        "#print(C)"
      ],
      "metadata": {
        "colab": {
          "base_uri": "https://localhost:8080/"
        },
        "id": "V-vbwwn8OYbA",
        "outputId": "28e8475c-9ccf-4caf-f46a-276e618297a7"
      },
      "execution_count": null,
      "outputs": [
        {
          "output_type": "stream",
          "name": "stdout",
          "text": [
            "tensor([[[6.5344e-01, 3.2483e-01, 4.5713e-01, 6.1248e-02],\n",
            "         [8.2217e-01, 1.1724e-01, 7.2557e-01, 6.4111e-01],\n",
            "         [8.6779e-01, 9.9167e-01, 5.9244e-01, 3.7781e-01],\n",
            "         [5.4026e-01, 4.7401e-02, 9.3860e-01, 1.0818e-01]],\n",
            "\n",
            "        [[4.9798e-01, 2.2051e-01, 2.8144e-01, 4.0392e-01],\n",
            "         [6.6316e-01, 3.6648e-01, 4.2850e-04, 4.2342e-01],\n",
            "         [9.5435e-01, 3.7252e-01, 1.1084e-01, 3.7429e-01],\n",
            "         [1.7751e-01, 8.9689e-01, 5.0153e-01, 6.7972e-02]],\n",
            "\n",
            "        [[7.0875e-01, 7.6316e-01, 3.3910e-01, 7.5520e-01],\n",
            "         [3.4988e-01, 2.9272e-01, 1.8239e-01, 4.7620e-01],\n",
            "         [2.0199e-01, 3.4207e-01, 3.7474e-01, 6.9689e-01],\n",
            "         [6.8643e-01, 9.4791e-01, 8.1106e-01, 4.1390e-02]]])\n"
          ]
        }
      ]
    },
    {
      "cell_type": "code",
      "source": [
        "y=np.array([[2,3,6,7,4],[3,5,7,9,10],[6,7,8,0,12]])\n",
        "print(y[-2:-1:,-2:-1:])"
      ],
      "metadata": {
        "colab": {
          "base_uri": "https://localhost:8080/"
        },
        "id": "9q3GBEqsN2th",
        "outputId": "eefb699d-5b69-417e-d74a-cdf6007aa273"
      },
      "execution_count": null,
      "outputs": [
        {
          "output_type": "stream",
          "name": "stdout",
          "text": [
            "[[9]]\n"
          ]
        }
      ]
    }
  ]
}