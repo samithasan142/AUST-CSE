{
  "nbformat": 4,
  "nbformat_minor": 0,
  "metadata": {
    "colab": {
      "provenance": []
    },
    "kernelspec": {
      "name": "python3",
      "display_name": "Python 3"
    },
    "language_info": {
      "name": "python"
    }
  },
  "cells": [
    {
      "cell_type": "code",
      "execution_count": 1,
      "metadata": {
        "id": "BeNHeAl5PeHC"
      },
      "outputs": [],
      "source": [
        "import numpy as np\n",
        "import pandas as pd\n",
        "import matplotlib.pyplot as plt"
      ]
    },
    {
      "cell_type": "code",
      "source": [
        "from google.colab import files\n",
        "uploaded = files.upload()"
      ],
      "metadata": {
        "colab": {
          "base_uri": "https://localhost:8080/",
          "height": 74
        },
        "id": "xaHPim33P16X",
        "outputId": "e04eaf33-ba8c-416d-eb47-560869da8343"
      },
      "execution_count": 2,
      "outputs": [
        {
          "output_type": "display_data",
          "data": {
            "text/plain": [
              "<IPython.core.display.HTML object>"
            ],
            "text/html": [
              "\n",
              "     <input type=\"file\" id=\"files-8372c96f-900a-423b-a31b-40537c1738e3\" name=\"files[]\" multiple disabled\n",
              "        style=\"border:none\" />\n",
              "     <output id=\"result-8372c96f-900a-423b-a31b-40537c1738e3\">\n",
              "      Upload widget is only available when the cell has been executed in the\n",
              "      current browser session. Please rerun this cell to enable.\n",
              "      </output>\n",
              "      <script>// Copyright 2017 Google LLC\n",
              "//\n",
              "// Licensed under the Apache License, Version 2.0 (the \"License\");\n",
              "// you may not use this file except in compliance with the License.\n",
              "// You may obtain a copy of the License at\n",
              "//\n",
              "//      http://www.apache.org/licenses/LICENSE-2.0\n",
              "//\n",
              "// Unless required by applicable law or agreed to in writing, software\n",
              "// distributed under the License is distributed on an \"AS IS\" BASIS,\n",
              "// WITHOUT WARRANTIES OR CONDITIONS OF ANY KIND, either express or implied.\n",
              "// See the License for the specific language governing permissions and\n",
              "// limitations under the License.\n",
              "\n",
              "/**\n",
              " * @fileoverview Helpers for google.colab Python module.\n",
              " */\n",
              "(function(scope) {\n",
              "function span(text, styleAttributes = {}) {\n",
              "  const element = document.createElement('span');\n",
              "  element.textContent = text;\n",
              "  for (const key of Object.keys(styleAttributes)) {\n",
              "    element.style[key] = styleAttributes[key];\n",
              "  }\n",
              "  return element;\n",
              "}\n",
              "\n",
              "// Max number of bytes which will be uploaded at a time.\n",
              "const MAX_PAYLOAD_SIZE = 100 * 1024;\n",
              "\n",
              "function _uploadFiles(inputId, outputId) {\n",
              "  const steps = uploadFilesStep(inputId, outputId);\n",
              "  const outputElement = document.getElementById(outputId);\n",
              "  // Cache steps on the outputElement to make it available for the next call\n",
              "  // to uploadFilesContinue from Python.\n",
              "  outputElement.steps = steps;\n",
              "\n",
              "  return _uploadFilesContinue(outputId);\n",
              "}\n",
              "\n",
              "// This is roughly an async generator (not supported in the browser yet),\n",
              "// where there are multiple asynchronous steps and the Python side is going\n",
              "// to poll for completion of each step.\n",
              "// This uses a Promise to block the python side on completion of each step,\n",
              "// then passes the result of the previous step as the input to the next step.\n",
              "function _uploadFilesContinue(outputId) {\n",
              "  const outputElement = document.getElementById(outputId);\n",
              "  const steps = outputElement.steps;\n",
              "\n",
              "  const next = steps.next(outputElement.lastPromiseValue);\n",
              "  return Promise.resolve(next.value.promise).then((value) => {\n",
              "    // Cache the last promise value to make it available to the next\n",
              "    // step of the generator.\n",
              "    outputElement.lastPromiseValue = value;\n",
              "    return next.value.response;\n",
              "  });\n",
              "}\n",
              "\n",
              "/**\n",
              " * Generator function which is called between each async step of the upload\n",
              " * process.\n",
              " * @param {string} inputId Element ID of the input file picker element.\n",
              " * @param {string} outputId Element ID of the output display.\n",
              " * @return {!Iterable<!Object>} Iterable of next steps.\n",
              " */\n",
              "function* uploadFilesStep(inputId, outputId) {\n",
              "  const inputElement = document.getElementById(inputId);\n",
              "  inputElement.disabled = false;\n",
              "\n",
              "  const outputElement = document.getElementById(outputId);\n",
              "  outputElement.innerHTML = '';\n",
              "\n",
              "  const pickedPromise = new Promise((resolve) => {\n",
              "    inputElement.addEventListener('change', (e) => {\n",
              "      resolve(e.target.files);\n",
              "    });\n",
              "  });\n",
              "\n",
              "  const cancel = document.createElement('button');\n",
              "  inputElement.parentElement.appendChild(cancel);\n",
              "  cancel.textContent = 'Cancel upload';\n",
              "  const cancelPromise = new Promise((resolve) => {\n",
              "    cancel.onclick = () => {\n",
              "      resolve(null);\n",
              "    };\n",
              "  });\n",
              "\n",
              "  // Wait for the user to pick the files.\n",
              "  const files = yield {\n",
              "    promise: Promise.race([pickedPromise, cancelPromise]),\n",
              "    response: {\n",
              "      action: 'starting',\n",
              "    }\n",
              "  };\n",
              "\n",
              "  cancel.remove();\n",
              "\n",
              "  // Disable the input element since further picks are not allowed.\n",
              "  inputElement.disabled = true;\n",
              "\n",
              "  if (!files) {\n",
              "    return {\n",
              "      response: {\n",
              "        action: 'complete',\n",
              "      }\n",
              "    };\n",
              "  }\n",
              "\n",
              "  for (const file of files) {\n",
              "    const li = document.createElement('li');\n",
              "    li.append(span(file.name, {fontWeight: 'bold'}));\n",
              "    li.append(span(\n",
              "        `(${file.type || 'n/a'}) - ${file.size} bytes, ` +\n",
              "        `last modified: ${\n",
              "            file.lastModifiedDate ? file.lastModifiedDate.toLocaleDateString() :\n",
              "                                    'n/a'} - `));\n",
              "    const percent = span('0% done');\n",
              "    li.appendChild(percent);\n",
              "\n",
              "    outputElement.appendChild(li);\n",
              "\n",
              "    const fileDataPromise = new Promise((resolve) => {\n",
              "      const reader = new FileReader();\n",
              "      reader.onload = (e) => {\n",
              "        resolve(e.target.result);\n",
              "      };\n",
              "      reader.readAsArrayBuffer(file);\n",
              "    });\n",
              "    // Wait for the data to be ready.\n",
              "    let fileData = yield {\n",
              "      promise: fileDataPromise,\n",
              "      response: {\n",
              "        action: 'continue',\n",
              "      }\n",
              "    };\n",
              "\n",
              "    // Use a chunked sending to avoid message size limits. See b/62115660.\n",
              "    let position = 0;\n",
              "    do {\n",
              "      const length = Math.min(fileData.byteLength - position, MAX_PAYLOAD_SIZE);\n",
              "      const chunk = new Uint8Array(fileData, position, length);\n",
              "      position += length;\n",
              "\n",
              "      const base64 = btoa(String.fromCharCode.apply(null, chunk));\n",
              "      yield {\n",
              "        response: {\n",
              "          action: 'append',\n",
              "          file: file.name,\n",
              "          data: base64,\n",
              "        },\n",
              "      };\n",
              "\n",
              "      let percentDone = fileData.byteLength === 0 ?\n",
              "          100 :\n",
              "          Math.round((position / fileData.byteLength) * 100);\n",
              "      percent.textContent = `${percentDone}% done`;\n",
              "\n",
              "    } while (position < fileData.byteLength);\n",
              "  }\n",
              "\n",
              "  // All done.\n",
              "  yield {\n",
              "    response: {\n",
              "      action: 'complete',\n",
              "    }\n",
              "  };\n",
              "}\n",
              "\n",
              "scope.google = scope.google || {};\n",
              "scope.google.colab = scope.google.colab || {};\n",
              "scope.google.colab._files = {\n",
              "  _uploadFiles,\n",
              "  _uploadFilesContinue,\n",
              "};\n",
              "})(self);\n",
              "</script> "
            ]
          },
          "metadata": {}
        },
        {
          "output_type": "stream",
          "name": "stdout",
          "text": [
            "Saving train-perceptron.txt to train-perceptron.txt\n"
          ]
        }
      ]
    },
    {
      "cell_type": "markdown",
      "source": [
        "**Task 1: Plot all sample points**"
      ],
      "metadata": {
        "id": "zGIzxho3Qk_F"
      }
    },
    {
      "cell_type": "code",
      "source": [
        "#Reading training and testing dataset\n",
        "df_train = pd.read_csv('train-perceptron.txt', sep=\" \",  header = None, dtype = 'float64')\n",
        "print(df_train)\n",
        "\n",
        "#converting into numpy array\n",
        "np_train = df_train.values"
      ],
      "metadata": {
        "colab": {
          "base_uri": "https://localhost:8080/"
        },
        "id": "5Ff-S8KXQxzN",
        "outputId": "8159d0dc-064b-4bdb-fee0-c3fc4152918e"
      },
      "execution_count": 3,
      "outputs": [
        {
          "output_type": "stream",
          "name": "stdout",
          "text": [
            "     0    1    2\n",
            "0  1.0  1.0  1.0\n",
            "1  1.0 -1.0  1.0\n",
            "2  2.0  2.5  2.0\n",
            "3  0.0  2.0  2.0\n",
            "4  2.0  3.0  2.0\n",
            "5  4.0  5.0  1.0\n"
          ]
        }
      ]
    },
    {
      "cell_type": "code",
      "source": [
        "#separating class\n",
        "w1 = df_train[df_train[2] == 1]\n",
        "w2 = df_train[df_train[2] == 2]"
      ],
      "metadata": {
        "id": "fo8Q5ro5R4YU"
      },
      "execution_count": 4,
      "outputs": []
    },
    {
      "cell_type": "code",
      "source": [
        "#scatter plot according to the class label\n",
        "fig, ax = plt.subplots()\n",
        "ax.scatter(w1[0], w1[1], color='blue', label='1', marker='x')\n",
        "ax.scatter(w2[0], w2[1], color='red', label='2', marker='o')\n",
        "ax.legend(title='Class', loc='lower right')\n",
        "plt.show()"
      ],
      "metadata": {
        "colab": {
          "base_uri": "https://localhost:8080/",
          "height": 265
        },
        "id": "9wc_Xv8USID4",
        "outputId": "d224fea2-2566-48a4-e0c8-1fea6f921f19"
      },
      "execution_count": 6,
      "outputs": [
        {
          "output_type": "display_data",
          "data": {
            "text/plain": [
              "<Figure size 432x288 with 1 Axes>"
            ],
            "image/png": "[encoded data removed]"
          },
          "metadata": {
            "needs_background": "light"
          }
        }
      ]
    },
    {
      "cell_type": "markdown",
      "source": [
        "**Task 2: Generate high dimensional sample points and Normalize any of the class**"
      ],
      "metadata": {
        "id": "uI8IjA8PTb7K"
      }
    },
    {
      "cell_type": "code",
      "source": [
        "def phi_function_and_normalization(arr):\n",
        "    \n",
        "    x1_2 = arr[0] ** 2\n",
        "    x2_2 = arr[1] ** 2\n",
        "    x1 = arr[0]\n",
        "    x2 = arr[1]\n",
        "    x1_x2 = x1 * x2\n",
        "    \n",
        "    if arr[2] == 1:\n",
        "        return  np.array([[x1_2, x2_2, x1_x2, x1, x2, 1]])\n",
        "    else:\n",
        "        return  np.array([[x1_2, x2_2, x1_x2, x1, x2, 1]]) * -1"
      ],
      "metadata": {
        "id": "749OwPdiToF3"
      },
      "execution_count": 7,
      "outputs": []
    },
    {
      "cell_type": "code",
      "source": [
        "#apply phi function and normalization to training samples\n",
        "\n",
        "#creating empty array\n",
        "y = np.empty((0,6), float)\n",
        "   \n",
        "for i in range(len(np_train)):\n",
        "    temp = phi_function_and_normalization(np_train[i])\n",
        "    y = np.append(y, temp, axis = 0)\n",
        "        \n",
        "print(y)   "
      ],
      "metadata": {
        "colab": {
          "base_uri": "https://localhost:8080/"
        },
        "id": "SnJjhNsEUzrn",
        "outputId": "6312a5e6-6767-42d6-b2f2-251dc3ae85fa"
      },
      "execution_count": 8,
      "outputs": [
        {
          "output_type": "stream",
          "name": "stdout",
          "text": [
            "[[ 1.    1.    1.    1.    1.    1.  ]\n",
            " [ 1.    1.   -1.    1.   -1.    1.  ]\n",
            " [-4.   -6.25 -5.   -2.   -2.5  -1.  ]\n",
            " [-0.   -4.   -0.   -0.   -2.   -1.  ]\n",
            " [-4.   -9.   -6.   -2.   -3.   -1.  ]\n",
            " [16.   25.   20.    4.    5.    1.  ]]\n"
          ]
        }
      ]
    },
    {
      "cell_type": "markdown",
      "source": [
        "**Task 3: Use Perceptron Algorithm (both one at a time and many at a time) for finding the weight coefficients**"
      ],
      "metadata": {
        "id": "d5JCU2t7Vd-n"
      }
    },
    {
      "cell_type": "code",
      "source": [
        "def one_at_a_time(y, w, alpha):\n",
        "    count = 0\n",
        "    itr = 0\n",
        "    len_y = y.shape[0]\n",
        "    \n",
        "    while count != len_y:\n",
        "        itr += 1\n",
        "        count = 0\n",
        "        \n",
        "        for i in range(len_y):\n",
        "            g = np.dot(y[i], np.transpose(w))\n",
        "            \n",
        "            if g <= 0:\n",
        "                w = w + alpha * y[i]\n",
        "            else:\n",
        "                count += 1\n",
        " \n",
        "    return itr "
      ],
      "metadata": {
        "id": "B9y4Euu_Wmde"
      },
      "execution_count": 9,
      "outputs": []
    },
    {
      "cell_type": "code",
      "source": [
        "def many_at_a_time(y, w, alpha):\n",
        "    count = 0\n",
        "    itr = 0\n",
        "    len_y = y.shape[0]\n",
        "   \n",
        "    while count != len_y:\n",
        "        itr += 1\n",
        "        count = 0\n",
        "        y_miss = np.zeros((1, y.shape[1]))\n",
        "       \n",
        "        for i in range(len_y):\n",
        "            g = np.dot(y[i], np.transpose(w))\n",
        "            \n",
        "            if g <= 0:\n",
        "                y_miss = y_miss + y[i]\n",
        "            else:\n",
        "                count += 1\n",
        "        w = w + alpha * y_miss\n",
        "    \n",
        "    return itr "
      ],
      "metadata": {
        "id": "9ElOYQWHXL7x"
      },
      "execution_count": 10,
      "outputs": []
    },
    {
      "cell_type": "markdown",
      "source": [
        "**Task 4: Obtain and Visualize the Performance of Different Perceptron algorithm for Different Combination of Weight Initialization, Learning Rate**"
      ],
      "metadata": {
        "id": "V4ndvAB9fvo9"
      }
    },
    {
      "cell_type": "code",
      "source": [
        "np.random.seed(2)\n",
        "\n",
        "# weight initializations\n",
        "w_ones = np.ones((1, y.shape[1]))\n",
        "w_zeros = np.zeros((1, y.shape[1]))\n",
        "w_random = np.random.random((1, y.shape[1]))\n",
        "\n",
        "# learning rate \n",
        "alphas = np.arange(0.1, 1.1, 0.1)\n",
        "\n",
        "#list for output\n",
        "one_ones, one_zeros, one_random, many_ones, many_zeros, many_random = [], [], [], [], [], []\n",
        "\n",
        "for alpha in alphas:\n",
        "    one_ones.append( one_at_a_time(y, w_ones, alpha) )\n",
        "    one_zeros.append( one_at_a_time(y, w_zeros, alpha) )\n",
        "    one_random.append( one_at_a_time(y, w_random, alpha) )\n",
        "    many_ones.append( many_at_a_time(y, w_ones, alpha) )\n",
        "    many_zeros.append( many_at_a_time(y, w_zeros, alpha) )\n",
        "    many_random.append( many_at_a_time(y, w_random, alpha) )\n",
        "    \n",
        "print('one at a time with wights all ones:', one_ones)\n",
        "print('one at a time with wights all zeros:', one_zeros)\n",
        "print('one at a time with wights randomly initialized:', one_random)\n",
        "print('many at a time with wights all ones:', many_ones)\n",
        "print('many at a time with wights all zeros:', many_zeros)\n",
        "print('many at a time with wights randomly initialized:', many_random)"
      ],
      "metadata": {
        "colab": {
          "base_uri": "https://localhost:8080/"
        },
        "id": "UqnXbt_Ofwll",
        "outputId": "0f4607ff-7585-4f3c-96e7-21d5bc224d74"
      },
      "execution_count": 11,
      "outputs": [
        {
          "output_type": "stream",
          "name": "stdout",
          "text": [
            "one at a time with wights all ones: [6, 147, 149, 149, 141, 157, 136, 136, 140, 141]\n",
            "one at a time with wights all zeros: [141, 141, 141, 141, 141, 141, 141, 141, 141, 141]\n",
            "one at a time with wights randomly initialized: [144, 154, 141, 153, 157, 157, 135, 136, 136, 136]\n",
            "many at a time with wights all ones: [102, 104, 91, 116, 105, 114, 91, 91, 105, 93]\n",
            "many at a time with wights all zeros: [105, 105, 92, 105, 92, 105, 105, 105, 105, 92]\n",
            "many at a time with wights randomly initialized: [95, 87, 92, 90, 88, 139, 138, 116, 118, 97]\n"
          ]
        }
      ]
    },
    {
      "cell_type": "code",
      "source": [
        "#function for ploting the bar chart\n",
        "def plot_bar_chart(x, y1, y2, init_type):\n",
        "    \n",
        "    fig, ax = plt.subplots(figsize=(8,6))\n",
        "    ax.bar(x, y1, width=0.03, align='center', label='One at a time')\n",
        "    ax.bar(x+0.03, y2, width=0.03, align='center', label='Many at a time')\n",
        "\n",
        "    plt.xlabel('Learning Rate')\n",
        "    plt.ylabel('Iterations')\n",
        "    plt.title('Perceptron Comparison: '+init_type)\n",
        "    plt.xticks(x)\n",
        "    plt.legend()\n",
        "    plt.show()"
      ],
      "metadata": {
        "id": "ZTzbCSQ7hmWi"
      },
      "execution_count": 12,
      "outputs": []
    },
    {
      "cell_type": "code",
      "source": [
        "#plotting bar charts\n",
        "\n",
        "plot_bar_chart(alphas, one_zeros, many_zeros, 'All zero initialization')\n",
        "plot_bar_chart(alphas, one_ones, many_ones, 'All one initialization')\n",
        "plot_bar_chart(alphas, one_random, many_random, 'Random initialization')"
      ],
      "metadata": {
        "colab": {
          "base_uri": "https://localhost:8080/",
          "height": 1000
        },
        "id": "2KnE1Vuihy8x",
        "outputId": "6dcb8471-1463-4e64-d601-59d0884f5b4c"
      },
      "execution_count": 13,
      "outputs": [
        {
          "output_type": "display_data",
          "data": {
            "text/plain": [
              "<Figure size 576x432 with 1 Axes>"
            ],
            "image/png": "[encoded data removed]"
          },
          "metadata": {
            "needs_background": "light"
          }
        },
        {
          "output_type": "display_data",
          "data": {
            "text/plain": [
              "<Figure size 576x432 with 1 Axes>"
            ],
            "image/png": "[encoded data removed]"
          },
          "metadata": {
            "needs_background": "light"
          }
        },
        {
          "output_type": "display_data",
          "data": {
            "text/plain": [
              "<Figure size 576x432 with 1 Axes>"
            ],
            "image/png": "[encoded data removed]"
          },
          "metadata": {
            "needs_background": "light"
          }
        }
      ]
    },
    {
      "cell_type": "markdown",
      "source": [
        "**Question (a):** \n",
        "\n",
        "In Task 2, why do we need to take the sample points to a high dimension?\n",
        "\n",
        "**Answer:** \n",
        "\n",
        "From the image seen while trying to plot the training points, it can be seen that the two classes are quite scattered.\n",
        "It looks quite imposible to separate the two classes using a **Linear Line**.\n",
        "So, in order to separate the classes, the sample points were taken to higher points using $\\phi$ function."
      ],
      "metadata": {
        "id": "oG9zoIrUJh8h"
      }
    }
  ]
}