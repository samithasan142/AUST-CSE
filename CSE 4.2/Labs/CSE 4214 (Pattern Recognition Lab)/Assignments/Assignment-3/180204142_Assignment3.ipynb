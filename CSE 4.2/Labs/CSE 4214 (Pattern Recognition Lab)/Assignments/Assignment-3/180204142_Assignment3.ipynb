{
  "nbformat": 4,
  "nbformat_minor": 0,
  "metadata": {
    "colab": {
      "provenance": []
    },
    "kernelspec": {
      "name": "python3",
      "display_name": "Python 3"
    },
    "language_info": {
      "name": "python"
    }
  },
  "cells": [
    {
      "cell_type": "markdown",
      "source": [
        "# Importing Library"
      ],
      "metadata": {
        "id": "WUS6B8e2edYm"
      }
    },
    {
      "cell_type": "code",
      "execution_count": 18,
      "metadata": {
        "id": "Wjz5gfc7-mje"
      },
      "outputs": [],
      "source": [
        "import pandas as pd\n",
        "import numpy as np\n",
        "import matplotlib\n",
        "import matplotlib.pyplot as plt"
      ]
    },
    {
      "cell_type": "markdown",
      "source": [
        "# Loading Data"
      ],
      "metadata": {
        "id": "hJsvki4mehuL"
      }
    },
    {
      "cell_type": "code",
      "source": [
        "from google.colab import drive\n",
        "\n",
        "drive.mount('/content/gdrive')"
      ],
      "metadata": {
        "colab": {
          "base_uri": "https://localhost:8080/"
        },
        "id": "l6ZbSb7ozLQo",
        "outputId": "e0d5ea17-78fc-43d8-c397-7544e98466f8"
      },
      "execution_count": 19,
      "outputs": [
        {
          "output_type": "stream",
          "name": "stdout",
          "text": [
            "Drive already mounted at /content/gdrive; to attempt to forcibly remount, call drive.mount(\"/content/gdrive\", force_remount=True).\n"
          ]
        }
      ]
    },
    {
      "cell_type": "code",
      "source": [
        "main_directory1  = '/content/gdrive/MyDrive/Pattern Lab/Assignment3/train_knn.txt'\n",
        "main_directory2  = '/content/gdrive/MyDrive/Pattern Lab/Assignment3/test_knn.txt'\n",
        "\n",
        "train = pd.read_csv(main_directory1, sep=',' , header = None)\n",
        "test = pd.read_csv(main_directory2, sep=',' , header = None)"
      ],
      "metadata": {
        "id": "TDB3c20yzWZE"
      },
      "execution_count": 20,
      "outputs": []
    },
    {
      "cell_type": "code",
      "source": [
        "print(train)"
      ],
      "metadata": {
        "colab": {
          "base_uri": "https://localhost:8080/"
        },
        "id": "J5R-rC1x4Htx",
        "outputId": "7e646b67-c0cb-4987-fe14-87ec76d4f113"
      },
      "execution_count": 21,
      "outputs": [
        {
          "output_type": "stream",
          "name": "stdout",
          "text": [
            "    0  1  2\n",
            "0   7  7  1\n",
            "1   7  4  1\n",
            "2   6  4  1\n",
            "3   7  5  1\n",
            "4   7  6  1\n",
            "5   6  7  1\n",
            "6   6  6  1\n",
            "7   3  4  2\n",
            "8   2  3  2\n",
            "9   3  2  2\n",
            "10  4  3  2\n",
            "11  3  3  2\n",
            "12  4  4  2\n",
            "13  1  4  2\n"
          ]
        }
      ]
    },
    {
      "cell_type": "code",
      "source": [
        "print(test)"
      ],
      "metadata": {
        "colab": {
          "base_uri": "https://localhost:8080/"
        },
        "id": "DbeuPdGJ4JYj",
        "outputId": "0c09c382-c5e2-48a0-b908-0ee92d9c377d"
      },
      "execution_count": 22,
      "outputs": [
        {
          "output_type": "stream",
          "name": "stdout",
          "text": [
            "   0  1\n",
            "0  3  7\n",
            "1  7  7\n",
            "2  4  3\n",
            "3  2  8\n",
            "4  3  5\n",
            "5  1  2\n",
            "6  4  8\n",
            "7  8  3\n",
            "8  8  4\n"
          ]
        }
      ]
    },
    {
      "cell_type": "markdown",
      "source": [
        "# Dividing Into Classes"
      ],
      "metadata": {
        "id": "Ma8m7Hwb4-6J"
      }
    },
    {
      "cell_type": "code",
      "source": [
        "class_1 = train[train[2]==1]\n",
        "class_1"
      ],
      "metadata": {
        "colab": {
          "base_uri": "https://localhost:8080/",
          "height": 269
        },
        "id": "oslVCGjOARLW",
        "outputId": "da1ff66d-54cd-4235-d898-f446165f5460"
      },
      "execution_count": 23,
      "outputs": [
        {
          "output_type": "execute_result",
          "data": {
            "text/plain": [
              "   0  1  2\n",
              "0  7  7  1\n",
              "1  7  4  1\n",
              "2  6  4  1\n",
              "3  7  5  1\n",
              "4  7  6  1\n",
              "5  6  7  1\n",
              "6  6  6  1"
            ],
            "text/html": [
              "\n",
              "  <div id=\"df-b90271e3-b0c7-4166-b16a-10314a2fb320\">\n",
              "    <div class=\"colab-df-container\">\n",
              "      <div>\n",
              "<style scoped>\n",
              "    .dataframe tbody tr th:only-of-type {\n",
              "        vertical-align: middle;\n",
              "    }\n",
              "\n",
              "    .dataframe tbody tr th {\n",
              "        vertical-align: top;\n",
              "    }\n",
              "\n",
              "    .dataframe thead th {\n",
              "        text-align: right;\n",
              "    }\n",
              "</style>\n",
              "<table border=\"1\" class=\"dataframe\">\n",
              "  <thead>\n",
              "    <tr style=\"text-align: right;\">\n",
              "      <th></th>\n",
              "      <th>0</th>\n",
              "      <th>1</th>\n",
              "      <th>2</th>\n",
              "    </tr>\n",
              "  </thead>\n",
              "  <tbody>\n",
              "    <tr>\n",
              "      <th>0</th>\n",
              "      <td>7</td>\n",
              "      <td>7</td>\n",
              "      <td>1</td>\n",
              "    </tr>\n",
              "    <tr>\n",
              "      <th>1</th>\n",
              "      <td>7</td>\n",
              "      <td>4</td>\n",
              "      <td>1</td>\n",
              "    </tr>\n",
              "    <tr>\n",
              "      <th>2</th>\n",
              "      <td>6</td>\n",
              "      <td>4</td>\n",
              "      <td>1</td>\n",
              "    </tr>\n",
              "    <tr>\n",
              "      <th>3</th>\n",
              "      <td>7</td>\n",
              "      <td>5</td>\n",
              "      <td>1</td>\n",
              "    </tr>\n",
              "    <tr>\n",
              "      <th>4</th>\n",
              "      <td>7</td>\n",
              "      <td>6</td>\n",
              "      <td>1</td>\n",
              "    </tr>\n",
              "    <tr>\n",
              "      <th>5</th>\n",
              "      <td>6</td>\n",
              "      <td>7</td>\n",
              "      <td>1</td>\n",
              "    </tr>\n",
              "    <tr>\n",
              "      <th>6</th>\n",
              "      <td>6</td>\n",
              "      <td>6</td>\n",
              "      <td>1</td>\n",
              "    </tr>\n",
              "  </tbody>\n",
              "</table>\n",
              "</div>\n",
              "      <button class=\"colab-df-convert\" onclick=\"convertToInteractive('df-b90271e3-b0c7-4166-b16a-10314a2fb320')\"\n",
              "              title=\"Convert this dataframe to an interactive table.\"\n",
              "              style=\"display:none;\">\n",
              "        \n",
              "  <svg xmlns=\"http://www.w3.org/2000/svg\" height=\"24px\"viewBox=\"0 0 24 24\"\n",
              "       width=\"24px\">\n",
              "    <path d=\"M0 0h24v24H0V0z\" fill=\"none\"/>\n",
              "    <path d=\"M18.56 5.44l.94 2.06.94-2.06 2.06-.94-2.06-.94-.94-2.06-.94 2.06-2.06.94zm-11 1L8.5 8.5l.94-2.06 2.06-.94-2.06-.94L8.5 2.5l-.94 2.06-2.06.94zm10 10l.94 2.06.94-2.06 2.06-.94-2.06-.94-.94-2.06-.94 2.06-2.06.94z\"/><path d=\"M17.41 7.96l-1.37-1.37c-.4-.4-.92-.59-1.43-.59-.52 0-1.04.2-1.43.59L10.3 9.45l-7.72 7.72c-.78.78-.78 2.05 0 2.83L4 21.41c.39.39.9.59 1.41.59.51 0 1.02-.2 1.41-.59l7.78-7.78 2.81-2.81c.8-.78.8-2.07 0-2.86zM5.41 20L4 18.59l7.72-7.72 1.47 1.35L5.41 20z\"/>\n",
              "  </svg>\n",
              "      </button>\n",
              "      \n",
              "  <style>\n",
              "    .colab-df-container {\n",
              "      display:flex;\n",
              "      flex-wrap:wrap;\n",
              "      gap: 12px;\n",
              "    }\n",
              "\n",
              "    .colab-df-convert {\n",
              "      background-color: #E8F0FE;\n",
              "      border: none;\n",
              "      border-radius: 50%;\n",
              "      cursor: pointer;\n",
              "      display: none;\n",
              "      fill: #1967D2;\n",
              "      height: 32px;\n",
              "      padding: 0 0 0 0;\n",
              "      width: 32px;\n",
              "    }\n",
              "\n",
              "    .colab-df-convert:hover {\n",
              "      background-color: #E2EBFA;\n",
              "      box-shadow: 0px 1px 2px rgba(60, 64, 67, 0.3), 0px 1px 3px 1px rgba(60, 64, 67, 0.15);\n",
              "      fill: #174EA6;\n",
              "    }\n",
              "\n",
              "    [theme=dark] .colab-df-convert {\n",
              "      background-color: #3B4455;\n",
              "      fill: #D2E3FC;\n",
              "    }\n",
              "\n",
              "    [theme=dark] .colab-df-convert:hover {\n",
              "      background-color: #434B5C;\n",
              "      box-shadow: 0px 1px 3px 1px rgba(0, 0, 0, 0.15);\n",
              "      filter: drop-shadow(0px 1px 2px rgba(0, 0, 0, 0.3));\n",
              "      fill: #FFFFFF;\n",
              "    }\n",
              "  </style>\n",
              "\n",
              "      <script>\n",
              "        const buttonEl =\n",
              "          document.querySelector('#df-b90271e3-b0c7-4166-b16a-10314a2fb320 button.colab-df-convert');\n",
              "        buttonEl.style.display =\n",
              "          google.colab.kernel.accessAllowed ? 'block' : 'none';\n",
              "\n",
              "        async function convertToInteractive(key) {\n",
              "          const element = document.querySelector('#df-b90271e3-b0c7-4166-b16a-10314a2fb320');\n",
              "          const dataTable =\n",
              "            await google.colab.kernel.invokeFunction('convertToInteractive',\n",
              "                                                     [key], {});\n",
              "          if (!dataTable) return;\n",
              "\n",
              "          const docLinkHtml = 'Like what you see? Visit the ' +\n",
              "            '<a target=\"_blank\" href=https://colab.research.google.com/notebooks/data_table.ipynb>data table notebook</a>'\n",
              "            + ' to learn more about interactive tables.';\n",
              "          element.innerHTML = '';\n",
              "          dataTable['output_type'] = 'display_data';\n",
              "          await google.colab.output.renderOutput(dataTable, element);\n",
              "          const docLink = document.createElement('div');\n",
              "          docLink.innerHTML = docLinkHtml;\n",
              "          element.appendChild(docLink);\n",
              "        }\n",
              "      </script>\n",
              "    </div>\n",
              "  </div>\n",
              "  "
            ]
          },
          "metadata": {},
          "execution_count": 23
        }
      ]
    },
    {
      "cell_type": "code",
      "source": [
        "class_2 = train[train[2]==2]\n",
        "class_2"
      ],
      "metadata": {
        "colab": {
          "base_uri": "https://localhost:8080/",
          "height": 269
        },
        "id": "sM0bw27aAeDp",
        "outputId": "747008f3-dd1a-48a2-993a-451c074f26db"
      },
      "execution_count": 24,
      "outputs": [
        {
          "output_type": "execute_result",
          "data": {
            "text/plain": [
              "    0  1  2\n",
              "7   3  4  2\n",
              "8   2  3  2\n",
              "9   3  2  2\n",
              "10  4  3  2\n",
              "11  3  3  2\n",
              "12  4  4  2\n",
              "13  1  4  2"
            ],
            "text/html": [
              "\n",
              "  <div id=\"df-30d62605-d555-4010-a8ff-03fda8aed0a5\">\n",
              "    <div class=\"colab-df-container\">\n",
              "      <div>\n",
              "<style scoped>\n",
              "    .dataframe tbody tr th:only-of-type {\n",
              "        vertical-align: middle;\n",
              "    }\n",
              "\n",
              "    .dataframe tbody tr th {\n",
              "        vertical-align: top;\n",
              "    }\n",
              "\n",
              "    .dataframe thead th {\n",
              "        text-align: right;\n",
              "    }\n",
              "</style>\n",
              "<table border=\"1\" class=\"dataframe\">\n",
              "  <thead>\n",
              "    <tr style=\"text-align: right;\">\n",
              "      <th></th>\n",
              "      <th>0</th>\n",
              "      <th>1</th>\n",
              "      <th>2</th>\n",
              "    </tr>\n",
              "  </thead>\n",
              "  <tbody>\n",
              "    <tr>\n",
              "      <th>7</th>\n",
              "      <td>3</td>\n",
              "      <td>4</td>\n",
              "      <td>2</td>\n",
              "    </tr>\n",
              "    <tr>\n",
              "      <th>8</th>\n",
              "      <td>2</td>\n",
              "      <td>3</td>\n",
              "      <td>2</td>\n",
              "    </tr>\n",
              "    <tr>\n",
              "      <th>9</th>\n",
              "      <td>3</td>\n",
              "      <td>2</td>\n",
              "      <td>2</td>\n",
              "    </tr>\n",
              "    <tr>\n",
              "      <th>10</th>\n",
              "      <td>4</td>\n",
              "      <td>3</td>\n",
              "      <td>2</td>\n",
              "    </tr>\n",
              "    <tr>\n",
              "      <th>11</th>\n",
              "      <td>3</td>\n",
              "      <td>3</td>\n",
              "      <td>2</td>\n",
              "    </tr>\n",
              "    <tr>\n",
              "      <th>12</th>\n",
              "      <td>4</td>\n",
              "      <td>4</td>\n",
              "      <td>2</td>\n",
              "    </tr>\n",
              "    <tr>\n",
              "      <th>13</th>\n",
              "      <td>1</td>\n",
              "      <td>4</td>\n",
              "      <td>2</td>\n",
              "    </tr>\n",
              "  </tbody>\n",
              "</table>\n",
              "</div>\n",
              "      <button class=\"colab-df-convert\" onclick=\"convertToInteractive('df-30d62605-d555-4010-a8ff-03fda8aed0a5')\"\n",
              "              title=\"Convert this dataframe to an interactive table.\"\n",
              "              style=\"display:none;\">\n",
              "        \n",
              "  <svg xmlns=\"http://www.w3.org/2000/svg\" height=\"24px\"viewBox=\"0 0 24 24\"\n",
              "       width=\"24px\">\n",
              "    <path d=\"M0 0h24v24H0V0z\" fill=\"none\"/>\n",
              "    <path d=\"M18.56 5.44l.94 2.06.94-2.06 2.06-.94-2.06-.94-.94-2.06-.94 2.06-2.06.94zm-11 1L8.5 8.5l.94-2.06 2.06-.94-2.06-.94L8.5 2.5l-.94 2.06-2.06.94zm10 10l.94 2.06.94-2.06 2.06-.94-2.06-.94-.94-2.06-.94 2.06-2.06.94z\"/><path d=\"M17.41 7.96l-1.37-1.37c-.4-.4-.92-.59-1.43-.59-.52 0-1.04.2-1.43.59L10.3 9.45l-7.72 7.72c-.78.78-.78 2.05 0 2.83L4 21.41c.39.39.9.59 1.41.59.51 0 1.02-.2 1.41-.59l7.78-7.78 2.81-2.81c.8-.78.8-2.07 0-2.86zM5.41 20L4 18.59l7.72-7.72 1.47 1.35L5.41 20z\"/>\n",
              "  </svg>\n",
              "      </button>\n",
              "      \n",
              "  <style>\n",
              "    .colab-df-container {\n",
              "      display:flex;\n",
              "      flex-wrap:wrap;\n",
              "      gap: 12px;\n",
              "    }\n",
              "\n",
              "    .colab-df-convert {\n",
              "      background-color: #E8F0FE;\n",
              "      border: none;\n",
              "      border-radius: 50%;\n",
              "      cursor: pointer;\n",
              "      display: none;\n",
              "      fill: #1967D2;\n",
              "      height: 32px;\n",
              "      padding: 0 0 0 0;\n",
              "      width: 32px;\n",
              "    }\n",
              "\n",
              "    .colab-df-convert:hover {\n",
              "      background-color: #E2EBFA;\n",
              "      box-shadow: 0px 1px 2px rgba(60, 64, 67, 0.3), 0px 1px 3px 1px rgba(60, 64, 67, 0.15);\n",
              "      fill: #174EA6;\n",
              "    }\n",
              "\n",
              "    [theme=dark] .colab-df-convert {\n",
              "      background-color: #3B4455;\n",
              "      fill: #D2E3FC;\n",
              "    }\n",
              "\n",
              "    [theme=dark] .colab-df-convert:hover {\n",
              "      background-color: #434B5C;\n",
              "      box-shadow: 0px 1px 3px 1px rgba(0, 0, 0, 0.15);\n",
              "      filter: drop-shadow(0px 1px 2px rgba(0, 0, 0, 0.3));\n",
              "      fill: #FFFFFF;\n",
              "    }\n",
              "  </style>\n",
              "\n",
              "      <script>\n",
              "        const buttonEl =\n",
              "          document.querySelector('#df-30d62605-d555-4010-a8ff-03fda8aed0a5 button.colab-df-convert');\n",
              "        buttonEl.style.display =\n",
              "          google.colab.kernel.accessAllowed ? 'block' : 'none';\n",
              "\n",
              "        async function convertToInteractive(key) {\n",
              "          const element = document.querySelector('#df-30d62605-d555-4010-a8ff-03fda8aed0a5');\n",
              "          const dataTable =\n",
              "            await google.colab.kernel.invokeFunction('convertToInteractive',\n",
              "                                                     [key], {});\n",
              "          if (!dataTable) return;\n",
              "\n",
              "          const docLinkHtml = 'Like what you see? Visit the ' +\n",
              "            '<a target=\"_blank\" href=https://colab.research.google.com/notebooks/data_table.ipynb>data table notebook</a>'\n",
              "            + ' to learn more about interactive tables.';\n",
              "          element.innerHTML = '';\n",
              "          dataTable['output_type'] = 'display_data';\n",
              "          await google.colab.output.renderOutput(dataTable, element);\n",
              "          const docLink = document.createElement('div');\n",
              "          docLink.innerHTML = docLinkHtml;\n",
              "          element.appendChild(docLink);\n",
              "        }\n",
              "      </script>\n",
              "    </div>\n",
              "  </div>\n",
              "  "
            ]
          },
          "metadata": {},
          "execution_count": 24
        }
      ]
    },
    {
      "cell_type": "markdown",
      "source": [
        "# Plotting Graph"
      ],
      "metadata": {
        "id": "KBf6WNH-ekxr"
      }
    },
    {
      "cell_type": "code",
      "source": [
        "fig=plt.figure()\n",
        "ax=fig.add_axes([0,0,1.5,1.5])\n",
        "ax.scatter(class_1[0], class_1[1], color='dodgerblue', label=\"Class 1\")\n",
        "ax.scatter(class_2[0], class_2[1] , color='y', label=\"Class 2\")\n",
        "ax.set_xlabel('first Column')\n",
        "ax.set_ylabel('Second Column')\n",
        "ax.set_title('scatter plot')\n",
        "plt.legend(loc=\"upper left\")\n",
        "plt.show()"
      ],
      "metadata": {
        "colab": {
          "base_uri": "https://localhost:8080/",
          "height": 510
        },
        "id": "kvcxa1F2Arfh",
        "outputId": "12e4c194-4032-4fc7-bdd2-b4af3ed4d14c"
      },
      "execution_count": 25,
      "outputs": [
        {
          "output_type": "display_data",
          "data": {
            "text/plain": [
              "<Figure size 432x288 with 1 Axes>"
            ],
            "image/png": "[encoded data removed]"
          },
          "metadata": {
            "needs_background": "light"
          }
        }
      ]
    },
    {
      "cell_type": "markdown",
      "source": [
        "# Defining BubbleSort Function"
      ],
      "metadata": {
        "id": "K16voUOHem5q"
      }
    },
    {
      "cell_type": "code",
      "source": [
        "def bubbleSort(array, target_label):\n",
        "    for i in range(len(array)):\n",
        "        for j in range(0, len(array) - i - 1):\n",
        "            if array[j] > array[j + 1]:\n",
        "                temp = array[j]\n",
        "                array[j] = array[j+1]\n",
        "                array[j+1] = temp\n",
        "\n",
        "                temp = target_label[j]\n",
        "                target_label[j] = target_label[j+1]\n",
        "                target_label[j+1] = temp\n",
        "    return array"
      ],
      "metadata": {
        "id": "v8MdkqbfIv0t"
      },
      "execution_count": 26,
      "outputs": []
    },
    {
      "cell_type": "code",
      "source": [
        "def calculate_dist(x,y):\n",
        "    global train    \n",
        "    dist = []\n",
        "    target_label = list(train[2])\n",
        "    for i,j in zip(train[0], train[1]):\n",
        "        dist.append(((i-x)**2 +(j-y)**2))        \n",
        "    dist = bubbleSort(dist,target_label)\n",
        "    return dist,target_label"
      ],
      "metadata": {
        "id": "aTjTlX4JA9H0"
      },
      "execution_count": 27,
      "outputs": []
    },
    {
      "cell_type": "code",
      "source": [
        "distances = []\n",
        "target_labels = []\n",
        "for i,j in zip(test[0], test[1]):\n",
        "    a, b = calculate_dist(i,j)\n",
        "    distances.append(a)\n",
        "    target_labels.append(b)"
      ],
      "metadata": {
        "id": "PnSs3ouOCYvp"
      },
      "execution_count": 28,
      "outputs": []
    },
    {
      "cell_type": "code",
      "source": [
        "distances = np.array(distances)\n",
        "distances.shape"
      ],
      "metadata": {
        "colab": {
          "base_uri": "https://localhost:8080/"
        },
        "id": "cUCBtkRoFgOP",
        "outputId": "f2e98f9f-f913-4e84-a8ff-9257afd4b098"
      },
      "execution_count": 29,
      "outputs": [
        {
          "output_type": "execute_result",
          "data": {
            "text/plain": [
              "(9, 14)"
            ]
          },
          "metadata": {},
          "execution_count": 29
        }
      ]
    },
    {
      "cell_type": "code",
      "source": [
        "target_labels = np.array(target_labels)\n",
        "target_labels.shape"
      ],
      "metadata": {
        "colab": {
          "base_uri": "https://localhost:8080/"
        },
        "id": "GlK5sZATNYmA",
        "outputId": "65c546e8-011c-4028-ebc5-c085cade2b19"
      },
      "execution_count": 30,
      "outputs": [
        {
          "output_type": "execute_result",
          "data": {
            "text/plain": [
              "(9, 14)"
            ]
          },
          "metadata": {},
          "execution_count": 30
        }
      ]
    },
    {
      "cell_type": "code",
      "source": [
        "test = np.array(test)"
      ],
      "metadata": {
        "id": "SNOblNrXWGEQ"
      },
      "execution_count": 31,
      "outputs": []
    },
    {
      "cell_type": "markdown",
      "source": [
        "# Taking User Input"
      ],
      "metadata": {
        "id": "rkTPkTbw9pAv"
      }
    },
    {
      "cell_type": "code",
      "source": [
        "k=input (\"Enter value of k :\")\n",
        "k=int(k)\n",
        "type(k)"
      ],
      "metadata": {
        "colab": {
          "base_uri": "https://localhost:8080/"
        },
        "id": "goWKQAos3bJk",
        "outputId": "a888a0f7-571a-4aea-e1a4-29c5c6f0fbb7"
      },
      "execution_count": 32,
      "outputs": [
        {
          "name": "stdout",
          "output_type": "stream",
          "text": [
            "Enter value of k :3\n"
          ]
        },
        {
          "output_type": "execute_result",
          "data": {
            "text/plain": [
              "int"
            ]
          },
          "metadata": {},
          "execution_count": 32
        }
      ]
    },
    {
      "cell_type": "markdown",
      "source": [
        "# KNN Algorithm"
      ],
      "metadata": {
        "id": "QKq6G2ekfFmL"
      }
    },
    {
      "cell_type": "code",
      "source": [
        "output = []\n",
        "predicted_class_1 = []\n",
        "predicted_class_2 = []\n",
        "prediction_text = []\n",
        "for i in range(len(test)):\n",
        "    count_1, count_2 = 0, 0\n",
        "    print('Test Point: ', test[i])\n",
        "    s = 'Test Point: '+ str(test[i]) + '\\n'\n",
        "    prediction_text.append(s)\n",
        "    for j in range(k):\n",
        "        print('Distance : ', distances[i][j], 'Class : ', target_labels[i][j])\n",
        "        s = 'Distance : '+ str(distances[i][j])  + '   Class : ' + str(target_labels[i][j]) + '\\n'\n",
        "        prediction_text.append(s)\n",
        "        if target_labels[i][j] == 1:\n",
        "            count_1 += 1\n",
        "        else:\n",
        "            count_2 += 1    \n",
        "    if count_1 > count_2:\n",
        "        print('Predicted Class 1')\n",
        "        prediction_text.append('Predicted Class 1' + '\\n\\n')\n",
        "        predicted_class_1.append(list(test[i]))\n",
        "    else:\n",
        "        print('Predicted Class 2')\n",
        "        prediction_text.append('Predicted Class 2' + '\\n\\n')\n",
        "        predicted_class_2.append(list(test[i]))\n",
        "    print('\\n\\n')"
      ],
      "metadata": {
        "colab": {
          "base_uri": "https://localhost:8080/"
        },
        "id": "IoFhPnMZPt_g",
        "outputId": "93a66366-98c1-43d4-dc3a-85beaf08597a"
      },
      "execution_count": 33,
      "outputs": [
        {
          "output_type": "stream",
          "name": "stdout",
          "text": [
            "Test Point:  [3 7]\n",
            "Distance :  9 Class :  1\n",
            "Distance :  9 Class :  2\n",
            "Distance :  10 Class :  1\n",
            "Predicted Class 1\n",
            "\n",
            "\n",
            "\n",
            "Test Point:  [7 7]\n",
            "Distance :  0 Class :  1\n",
            "Distance :  1 Class :  1\n",
            "Distance :  1 Class :  1\n",
            "Predicted Class 1\n",
            "\n",
            "\n",
            "\n",
            "Test Point:  [4 3]\n",
            "Distance :  0 Class :  2\n",
            "Distance :  1 Class :  2\n",
            "Distance :  1 Class :  2\n",
            "Predicted Class 2\n",
            "\n",
            "\n",
            "\n",
            "Test Point:  [2 8]\n",
            "Distance :  17 Class :  1\n",
            "Distance :  17 Class :  2\n",
            "Distance :  17 Class :  2\n",
            "Predicted Class 2\n",
            "\n",
            "\n",
            "\n",
            "Test Point:  [3 5]\n",
            "Distance :  1 Class :  2\n",
            "Distance :  2 Class :  2\n",
            "Distance :  4 Class :  2\n",
            "Predicted Class 2\n",
            "\n",
            "\n",
            "\n",
            "Test Point:  [1 2]\n",
            "Distance :  2 Class :  2\n",
            "Distance :  4 Class :  2\n",
            "Distance :  4 Class :  2\n",
            "Predicted Class 2\n",
            "\n",
            "\n",
            "\n",
            "Test Point:  [4 8]\n",
            "Distance :  5 Class :  1\n",
            "Distance :  8 Class :  1\n",
            "Distance :  10 Class :  1\n",
            "Predicted Class 1\n",
            "\n",
            "\n",
            "\n",
            "Test Point:  [8 3]\n",
            "Distance :  2 Class :  1\n",
            "Distance :  5 Class :  1\n",
            "Distance :  5 Class :  1\n",
            "Predicted Class 1\n",
            "\n",
            "\n",
            "\n",
            "Test Point:  [8 4]\n",
            "Distance :  1 Class :  1\n",
            "Distance :  2 Class :  1\n",
            "Distance :  4 Class :  1\n",
            "Predicted Class 1\n",
            "\n",
            "\n",
            "\n"
          ]
        }
      ]
    },
    {
      "cell_type": "code",
      "source": [
        "with open('prediction.txt', 'w') as writefile:\n",
        "    for line in prediction_text:\n",
        "        writefile.write(line)"
      ],
      "metadata": {
        "id": "TWBQ_A_vCvB_"
      },
      "execution_count": 34,
      "outputs": []
    },
    {
      "cell_type": "code",
      "source": [
        "df1 = pd.DataFrame(predicted_class_1, columns = [0,1])\n",
        "df2 = pd.DataFrame(predicted_class_2, columns = [0,1])"
      ],
      "metadata": {
        "id": "kxBjySJc74GS"
      },
      "execution_count": 35,
      "outputs": []
    },
    {
      "cell_type": "code",
      "source": [
        "fig=plt.figure()\n",
        "ax=fig.add_axes([0,0,2,2])\n",
        "ax.scatter(class_1[0], class_1[1], color='dodgerblue', label=\"Class 1\")\n",
        "ax.scatter(df1[0], df1[1], color='navy', label=\"Predicted Class 1\")\n",
        "ax.scatter(class_2[0], class_2[1] , color='y', label=\"Class 2\")\n",
        "ax.scatter(df2[0], df2[1] , color='g', label=\"Predicted Class 2\")\n",
        "ax.set_xlabel('First Column')\n",
        "ax.set_ylabel('Second Column')\n",
        "ax.set_title('Scatter Plot')\n",
        "plt.legend(loc=\"upper right\")\n",
        "plt.show()"
      ],
      "metadata": {
        "id": "tMLWtkFHV_nK",
        "colab": {
          "base_uri": "https://localhost:8080/",
          "height": 654
        },
        "outputId": "4ef0fd51-74b8-4843-af9d-314cc86660af"
      },
      "execution_count": 36,
      "outputs": [
        {
          "output_type": "display_data",
          "data": {
            "text/plain": [
              "<Figure size 432x288 with 1 Axes>"
            ],
            "image/png": "[encoded data removed]"
          },
          "metadata": {
            "needs_background": "light"
          }
        }
      ]
    }
  ]
}