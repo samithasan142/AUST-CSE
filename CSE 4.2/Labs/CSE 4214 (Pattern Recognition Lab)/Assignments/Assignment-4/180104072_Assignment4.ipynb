{
  "nbformat": 4,
  "nbformat_minor": 0,
  "metadata": {
    "colab": {
      "name": "180104072_Assignment4.ipynb",
      "provenance": []
    },
    "kernelspec": {
      "name": "python3",
      "display_name": "Python 3"
    },
    "language_info": {
      "name": "python"
    }
  },
  "cells": [
    {
      "cell_type": "code",
      "execution_count": 29,
      "metadata": {
        "id": "Ql6U0jkRPt8K"
      },
      "outputs": [],
      "source": [
        "import pandas as pd\n",
        "import numpy as np\n",
        "import matplotlib\n",
        "import matplotlib.pyplot as plt"
      ]
    },
    {
      "cell_type": "code",
      "source": [
        "from google.colab import drive\n",
        "\n",
        "drive.mount('/content/gdrive')"
      ],
      "metadata": {
        "colab": {
          "base_uri": "https://localhost:8080/"
        },
        "id": "IWkhlMJjWBnT",
        "outputId": "d062a42d-da59-48a2-8693-047a2d474641"
      },
      "execution_count": 30,
      "outputs": [
        {
          "output_type": "stream",
          "name": "stdout",
          "text": [
            "Drive already mounted at /content/gdrive; to attempt to forcibly remount, call drive.mount(\"/content/gdrive\", force_remount=True).\n"
          ]
        }
      ]
    },
    {
      "cell_type": "code",
      "source": [
        "main_directory  = '/content/gdrive/MyDrive/Pattern Lab/Assignment4/data_k_mean.txt'\n",
        "train = pd.read_csv(main_directory, sep=' ' , header = None)\n",
        "train1 = train.to_numpy()\n",
        "print(train1)"
      ],
      "metadata": {
        "colab": {
          "base_uri": "https://localhost:8080/"
        },
        "id": "I_F7lmGxWLqv",
        "outputId": "d7487227-2d02-4b66-b380-780026833c85"
      },
      "execution_count": 31,
      "outputs": [
        {
          "output_type": "stream",
          "name": "stdout",
          "text": [
            "[[-7.87157 -4.86573]\n",
            " [-4.76661 -6.87944]\n",
            " [-6.67986 -5.8308 ]\n",
            " ...\n",
            " [ 6.91832 -0.32132]\n",
            " [-8.23828 -4.00405]\n",
            " [-5.75112 -5.99531]]\n"
          ]
        }
      ]
    },
    {
      "cell_type": "code",
      "source": [
        "#plotting all data points\n",
        "plt.scatter(train[0], train[1], c = 'blue', marker = 's')\n",
        "plt.show()"
      ],
      "metadata": {
        "colab": {
          "base_uri": "https://localhost:8080/",
          "height": 265
        },
        "id": "DOxqoc1aXAsY",
        "outputId": "aac2104d-8fc7-4850-bf92-8a04b139a4e3"
      },
      "execution_count": 32,
      "outputs": [
        {
          "output_type": "display_data",
          "data": {
            "text/plain": [
              "<Figure size 432x288 with 1 Axes>"
            ],
            "image/png": "[encoded data removed]"
          },
          "metadata": {
            "needs_background": "light"
          }
        }
      ]
    },
    {
      "cell_type": "code",
      "source": [
        "#taking k as input\n",
        "k = int(input(\"Enter the value of k : \"))"
      ],
      "metadata": {
        "colab": {
          "base_uri": "https://localhost:8080/"
        },
        "id": "pPOcIWo0XeY8",
        "outputId": "969c394d-3051-4fb7-f9ae-040bfc9f7d4a"
      },
      "execution_count": 33,
      "outputs": [
        {
          "name": "stdout",
          "output_type": "stream",
          "text": [
            "Enter the value of k : 2\n"
          ]
        }
      ]
    },
    {
      "cell_type": "code",
      "source": [
        "#random centroids for 1st iteration\n",
        "np.random.seed(seed=72)\n",
        "random_numbers = np.random.randint(low=0, high=len(train1), size=(k))\n",
        "centroids = [train1[random_numbers[i]] for i in range(k)]\n",
        "print(centroids)"
      ],
      "metadata": {
        "colab": {
          "base_uri": "https://localhost:8080/"
        },
        "id": "5qHcW267Xq1C",
        "outputId": "bfa7bff0-ffa1-4c03-c181-561f5b22d92d"
      },
      "execution_count": 34,
      "outputs": [
        {
          "output_type": "stream",
          "name": "stdout",
          "text": [
            "[array([ 6.80375, -0.13017]), array([6.68468, 0.85224])]\n"
          ]
        }
      ]
    },
    {
      "cell_type": "code",
      "source": [
        "distance = [] #to store the distance from point to classes\n",
        "index_clusters = [-1 for i in range(len(train1))] #to store class corresponding to index\n",
        "count = 0 #to count the iteration number\n",
        "clusters = {} #to store class numbers as keys and data points as values\n",
        "for x in range(500):\n",
        "    count = x\n",
        "    # flag to keep track whether change occurs or not\n",
        "    flag = 0 \n",
        "    for y in range(k):\n",
        "        clusters[y] = []\n",
        "    # iterate through each data points\n",
        "    for i in range(len(train1)):\n",
        "        distance = []\n",
        "        for j in range(k):\n",
        "            dist = np.sqrt(pow(abs((train1[i][0] - centroids[j][0])), 2) + pow(abs((train1[i][1] - centroids[j][1])), 2))\n",
        "            distance.append(dist)\n",
        "        index = distance.index(min(distance))\n",
        "        # check whether the change occurs or not\n",
        "        if index_clusters[i] != index:\n",
        "            flag = 1\n",
        "            index_clusters[i] = index\n",
        "        clusters[index].append(train1[i])\n",
        "    # if change occurs\n",
        "    if flag == 0:\n",
        "        break\n",
        "    # calculating new centroids\n",
        "    centroids = [np.mean(np.asarray(clusters[z]), axis=0) for z in range(k)]"
      ],
      "metadata": {
        "id": "wBNUFrjcX8RC"
      },
      "execution_count": 35,
      "outputs": []
    },
    {
      "cell_type": "code",
      "source": [
        "x1 = np.asarray(clusters[0])[:, 0]\n",
        "y1 = np.asarray(clusters[0])[:, 1]\n",
        "\n",
        "x2 = np.asarray(clusters[1])[:, 0]\n",
        "y2 = np.asarray(clusters[1])[:, 1]"
      ],
      "metadata": {
        "id": "2651svtJYgcb"
      },
      "execution_count": 36,
      "outputs": []
    },
    {
      "cell_type": "code",
      "source": [
        "# plotting classified data points of two classes with different colored marker\n",
        "plt.scatter(x1, y1, c = 'red', marker = 's', label = 'Class 1')\n",
        "plt.scatter(x2, y2, c = 'green', marker = 'H', label = 'Class 2')\n",
        "plt.legend(loc = 'best')\n",
        "plt.show()"
      ],
      "metadata": {
        "colab": {
          "base_uri": "https://localhost:8080/",
          "height": 265
        },
        "id": "QzW8dbY5YkR0",
        "outputId": "06ee00d0-68d0-4fe9-930d-5136db16fd66"
      },
      "execution_count": 37,
      "outputs": [
        {
          "output_type": "display_data",
          "data": {
            "text/plain": [
              "<Figure size 432x288 with 1 Axes>"
            ],
            "image/png": "[encoded data removed]"
          },
          "metadata": {
            "needs_background": "light"
          }
        }
      ]
    }
  ]
}