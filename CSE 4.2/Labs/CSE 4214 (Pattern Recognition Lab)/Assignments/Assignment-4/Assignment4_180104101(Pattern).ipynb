{
  "nbformat": 4,
  "nbformat_minor": 0,
  "metadata": {
    "colab": {
      "name": "Assignment4_180104101(Pattern).ipynb",
      "provenance": [],
      "collapsed_sections": [],
      "toc_visible": true
    },
    "kernelspec": {
      "name": "python3",
      "display_name": "Python 3"
    }
  },
  "cells": [
    {
      "cell_type": "code",
      "metadata": {
        "id": "KVroujjOFMoa"
      },
      "source": [
        "import pandas as pd\n",
        "import matplotlib.pyplot as plt\n",
        "import numpy as np\n",
        "import math"
      ],
      "execution_count": 17,
      "outputs": []
    },
    {
      "cell_type": "code",
      "metadata": {
        "id": "OoETUwE3Ft82",
        "colab": {
          "base_uri": "https://localhost:8080/"
        },
        "outputId": "8f6addce-1654-4eae-f544-117f1176df7f"
      },
      "source": [
        "from google.colab import drive\n",
        "drive.mount('/content/drive')"
      ],
      "execution_count": 18,
      "outputs": [
        {
          "output_type": "stream",
          "name": "stdout",
          "text": [
            "Drive already mounted at /content/drive; to attempt to forcibly remount, call drive.mount(\"/content/drive\", force_remount=True).\n"
          ]
        }
      ]
    },
    {
      "cell_type": "markdown",
      "metadata": {
        "id": "pSfDS35bF9rR"
      },
      "source": [
        "### Task 1 : Take input from the given source data file and plot all the points"
      ]
    },
    {
      "cell_type": "code",
      "metadata": {
        "id": "NdJwMfWkFzb6",
        "colab": {
          "base_uri": "https://localhost:8080/"
        },
        "outputId": "ccd5b005-fcd6-4204-fd6c-35c2aeca4147"
      },
      "source": [
        "#load dataset\n",
        "df = pd.read_csv('/content/drive/MyDrive/Pattern Lab Data/data_k_mean.txt', header = None, sep=' ')\n",
        "\n",
        "#converting dataframe into array\n",
        "arr = df.values\n",
        "\n",
        "print(df.head())"
      ],
      "execution_count": 19,
      "outputs": [
        {
          "output_type": "stream",
          "name": "stdout",
          "text": [
            "         0        1\n",
            "0 -7.87157 -4.86573\n",
            "1 -4.76661 -6.87944\n",
            "2 -6.67986 -5.83080\n",
            "3 -8.93021 -4.15571\n",
            "4 -7.91375 -4.22840\n"
          ]
        }
      ]
    },
    {
      "cell_type": "code",
      "metadata": {
        "id": "OupRI7xYGVEd",
        "colab": {
          "base_uri": "https://localhost:8080/",
          "height": 295
        },
        "outputId": "a93188a0-9e7e-46a4-d12f-1078ee61ac70"
      },
      "source": [
        "#scatter plot of the dataset\n",
        "fig, ax = plt.subplots()\n",
        "ax.scatter(df[0], df[1], color='blue')\n",
        "plt.xlabel('x')\n",
        "plt.ylabel('y')\n",
        "plt.title('Scatter Plot of All Data Points')\n",
        "plt.show()"
      ],
      "execution_count": 20,
      "outputs": [
        {
          "output_type": "display_data",
          "data": {
            "text/plain": [
              "<Figure size 432x288 with 1 Axes>"
            ],
            "image/png": "[encoded data removed]"
          },
          "metadata": {
            "needs_background": "light"
          }
        }
      ]
    },
    {
      "cell_type": "markdown",
      "metadata": {
        "id": "POCWVb5TIpS5"
      },
      "source": [
        "### Task 2 : Perform the k-means clustering algorithm applying Euclidean distance as a distance measure on the given dataset. The value of k will be taken from user."
      ]
    },
    {
      "cell_type": "code",
      "metadata": {
        "id": "CaWQfvDCQwev"
      },
      "source": [
        "#function for euclidean distance\n",
        "def euclidean_dist(x, y):\n",
        "  dist = 0\n",
        "  for i in range(len(x)):\n",
        "    dist += (x[i] - y[i]) ** 2\n",
        "\n",
        "  return math.sqrt(dist)"
      ],
      "execution_count": 21,
      "outputs": []
    },
    {
      "cell_type": "code",
      "metadata": {
        "id": "Zv-7h6yhJPqt"
      },
      "source": [
        "#function for k-means clustering\n",
        "\n",
        "def k_means(k, arr, max_iteration):\n",
        "  \n",
        "  #calculating sample size \n",
        "  m = len(arr)\n",
        "\n",
        "  #randomly sample out k centroids\n",
        "  np.random.seed(2)\n",
        "  rand_idx = np.random.randint(m, size=k)\n",
        "  centroids = np.array( [arr[i] for i in rand_idx] )\n",
        "\n",
        "  #initialization of matrix\n",
        "  distance_matrix = np.zeros((k,m))\n",
        "  group_matrix = np.empty(m)\n",
        "  prev_group_matrix = np.empty(m)\n",
        "\n",
        "  #calculating object-centroid distance\n",
        "  for itr in range(max_iteration):\n",
        "\n",
        "    for i in range(m):\n",
        "      for j in range(k):\n",
        "        distance_matrix[j, i] = euclidean_dist(arr[i], centroids[j])\n",
        "\n",
        "    group_matrix = np.argmin(distance_matrix, axis=0)\n",
        "  \n",
        "    if (np.array_equal(group_matrix, prev_group_matrix)):\n",
        "      print(\"Iteration Taken: \",itr)\n",
        "      break\n",
        "  \n",
        "    prev_group_matrix = group_matrix.copy()\n",
        "\n",
        "    #updating centroids\n",
        "    for i in range(k):\n",
        "      #sampling out class i samples from group matrix\n",
        "      arr_subset = arr[group_matrix == i]\n",
        "      centroids[i] = np.sum(arr_subset, axis=0) / arr_subset.shape[0]\n",
        "    \n",
        "  return group_matrix"
      ],
      "execution_count": 22,
      "outputs": []
    },
    {
      "cell_type": "code",
      "metadata": {
        "id": "yzWRvntiK1ZD",
        "colab": {
          "base_uri": "https://localhost:8080/"
        },
        "outputId": "50ff65cc-c7bd-40f1-b181-eb43623392ec"
      },
      "source": [
        "#call k_means function for our dataset\n",
        "k = 2\n",
        "max_iteration = 200\n",
        "group_matrix = k_means(k, arr, max_iteration)"
      ],
      "execution_count": 23,
      "outputs": [
        {
          "output_type": "stream",
          "name": "stdout",
          "text": [
            "Iteration Taken:  2\n"
          ]
        }
      ]
    },
    {
      "cell_type": "markdown",
      "metadata": {
        "id": "Xes6qKLw9N0T"
      },
      "source": [
        "### Task 3 : Color the corresponding points on the clusters with different colors"
      ]
    },
    {
      "cell_type": "code",
      "metadata": {
        "id": "VlOoFyK9JezW",
        "colab": {
          "base_uri": "https://localhost:8080/",
          "height": 295
        },
        "outputId": "3a940b2b-81aa-4059-a345-5cce0f61422d"
      },
      "source": [
        "#scatter plot according to the class label\n",
        "fig, ax = plt.subplots()\n",
        "\n",
        "for i in range(k):\n",
        "  data = arr[ group_matrix == i]\n",
        "  ax.scatter(data[:,0], data[:,1], label='Class '+str(i+1))\n",
        "\n",
        "ax.legend(loc='upper left')\n",
        "plt.xlabel('x')\n",
        "plt.ylabel('y')\n",
        "plt.title('Scatter Plot of Classified Samples')\n",
        "plt.show()"
      ],
      "execution_count": 24,
      "outputs": [
        {
          "output_type": "display_data",
          "data": {
            "text/plain": [
              "<Figure size 432x288 with 1 Axes>"
            ],
            "image/png": "[encoded data removed]"
          },
          "metadata": {
            "needs_background": "light"
          }
        }
      ]
    }
  ]
}