{
  "nbformat": 4,
  "nbformat_minor": 0,
  "metadata": {
    "colab": {
      "provenance": []
    },
    "kernelspec": {
      "name": "python3",
      "display_name": "Python 3"
    },
    "language_info": {
      "name": "python"
    }
  },
  "cells": [
    {
      "cell_type": "code",
      "execution_count": null,
      "metadata": {
        "id": "SRbe4rfZKU_W"
      },
      "outputs": [],
      "source": [
        "import numpy as np\n",
        "import pandas as pd\n",
        "import matplotlib.pyplot as plt"
      ]
    },
    {
      "cell_type": "code",
      "source": [
        "df = pd.DataFrame(np.random.randint(0,30,size=(20, 2)), columns=list('AB'))\n",
        "\n",
        "print (df)"
      ],
      "metadata": {
        "colab": {
          "base_uri": "https://localhost:8080/"
        },
        "id": "ai9dTCWZZFgm",
        "outputId": "f43f3003-7ed7-4ef5-85ae-3bb6847e4b45"
      },
      "execution_count": null,
      "outputs": [
        {
          "output_type": "stream",
          "name": "stdout",
          "text": [
            "     A   B\n",
            "0   14   8\n",
            "1   18  13\n",
            "2   26  15\n",
            "3    9  13\n",
            "4    8  23\n",
            "5   17  22\n",
            "6   24  26\n",
            "7   21   9\n",
            "8   25   9\n",
            "9   14  28\n",
            "10  26  19\n",
            "11   0  11\n",
            "12   0  26\n",
            "13  18   8\n",
            "14  12  10\n",
            "15   8   2\n",
            "16  28   9\n",
            "17  22   5\n",
            "18   6  22\n",
            "19   6  19\n"
          ]
        }
      ]
    },
    {
      "cell_type": "code",
      "source": [
        "\n",
        "boxes = {'A': [0,0,0,0,0, 0,0,0,0,0, 0,0,0,0,0, 0,0,0,0,0],\n",
        "         'B': [0,0,0,0,0, 0,0,0,0,0, 0,0,0,0,0, 0,0,0,0,0],\n",
        "        'Label': [0,0,0,0,0, 0,0,0,0,0, 1,1,1,1,1, 1,1,1,1,1]\n",
        "        }\n",
        "\n",
        "df_train = pd.DataFrame(boxes, columns = ['A','B','Label'])\n",
        "print (df_train)\n",
        "\n",
        "np_train = df_train.values"
      ],
      "metadata": {
        "colab": {
          "base_uri": "https://localhost:8080/"
        },
        "id": "717Dzt7qOZrU",
        "outputId": "4a7ab11c-9d11-4f6a-cb6a-831c96dd9f82"
      },
      "execution_count": null,
      "outputs": [
        {
          "output_type": "stream",
          "name": "stdout",
          "text": [
            "    A  B  Label\n",
            "0   0  0      0\n",
            "1   0  0      0\n",
            "2   0  0      0\n",
            "3   0  0      0\n",
            "4   0  0      0\n",
            "5   0  0      0\n",
            "6   0  0      0\n",
            "7   0  0      0\n",
            "8   0  0      0\n",
            "9   0  0      0\n",
            "10  0  0      1\n",
            "11  0  0      1\n",
            "12  0  0      1\n",
            "13  0  0      1\n",
            "14  0  0      1\n",
            "15  0  0      1\n",
            "16  0  0      1\n",
            "17  0  0      1\n",
            "18  0  0      1\n",
            "19  0  0      1\n"
          ]
        }
      ]
    },
    {
      "cell_type": "code",
      "source": [
        "w1 = df_train[df_train['Label'] == 0]\n",
        "w2 = df_train[df_train['Label'] == 1]"
      ],
      "metadata": {
        "id": "4RvDcileTzo-"
      },
      "execution_count": null,
      "outputs": []
    },
    {
      "cell_type": "code",
      "source": [
        "fig, ax = plt.subplots()\n",
        "ax.scatter(w1['A'], w1['B'], color='blue', label='0', marker='x')\n",
        "ax.scatter(w1['A'], w1['B'], color='red', label='1', marker='o')\n",
        "ax.legend(title='Class', loc='lower right')\n",
        "plt.show()"
      ],
      "metadata": {
        "colab": {
          "base_uri": "https://localhost:8080/",
          "height": 265
        },
        "id": "BEvUJe-KUO_r",
        "outputId": "96d861e9-d4d6-459a-8035-9008ddd6116b"
      },
      "execution_count": null,
      "outputs": [
        {
          "output_type": "display_data",
          "data": {
            "text/plain": [
              "<Figure size 432x288 with 1 Axes>"
            ],
            "image/png": "[encoded data removed]"
          },
          "metadata": {
            "needs_background": "light"
          }
        }
      ]
    },
    {
      "cell_type": "code",
      "source": [
        "def phi_function_and_normalization(arr):\n",
        "    \n",
        "    A_mul_A = arr[0] * arr[0]\n",
        "    A_mul_B = arr[0] * arr[1]\n",
        "    B_mul_B = arr[1] * arr[1]\n",
        "    A_min_B = arr[0] - arr[1]\n",
        "    \n",
        "    if arr[2] == 1:\n",
        "        return  np.array([[A_mul_A, A_mul_B, B_mul_B, A_min_B, 0.5, 1]])\n",
        "    else:\n",
        "        return  np.array([[A_mul_A, A_mul_B, B_mul_B, A_min_B, 0.5, 1]]) * -1"
      ],
      "metadata": {
        "id": "LQCDO-RqQVfK"
      },
      "execution_count": null,
      "outputs": []
    },
    {
      "cell_type": "code",
      "source": [
        "y = np.empty((0,6), float)\n",
        "   \n",
        "for i in range(len(np_train)):\n",
        "    temp = phi_function_and_normalization(np_train[i])\n",
        "    y = np.append(y, temp, axis = 0)\n",
        "        \n",
        "print(y) "
      ],
      "metadata": {
        "colab": {
          "base_uri": "https://localhost:8080/"
        },
        "id": "GUXAxKEFRUVX",
        "outputId": "3c25dd79-12f5-434f-9e81-af56411d77f3"
      },
      "execution_count": null,
      "outputs": [
        {
          "output_type": "stream",
          "name": "stdout",
          "text": [
            "[[-0.  -0.  -0.  -0.  -0.5 -1. ]\n",
            " [-0.  -0.  -0.  -0.  -0.5 -1. ]\n",
            " [-0.  -0.  -0.  -0.  -0.5 -1. ]\n",
            " [-0.  -0.  -0.  -0.  -0.5 -1. ]\n",
            " [-0.  -0.  -0.  -0.  -0.5 -1. ]\n",
            " [-0.  -0.  -0.  -0.  -0.5 -1. ]\n",
            " [-0.  -0.  -0.  -0.  -0.5 -1. ]\n",
            " [-0.  -0.  -0.  -0.  -0.5 -1. ]\n",
            " [-0.  -0.  -0.  -0.  -0.5 -1. ]\n",
            " [-0.  -0.  -0.  -0.  -0.5 -1. ]\n",
            " [ 0.   0.   0.   0.   0.5  1. ]\n",
            " [ 0.   0.   0.   0.   0.5  1. ]\n",
            " [ 0.   0.   0.   0.   0.5  1. ]\n",
            " [ 0.   0.   0.   0.   0.5  1. ]\n",
            " [ 0.   0.   0.   0.   0.5  1. ]\n",
            " [ 0.   0.   0.   0.   0.5  1. ]\n",
            " [ 0.   0.   0.   0.   0.5  1. ]\n",
            " [ 0.   0.   0.   0.   0.5  1. ]\n",
            " [ 0.   0.   0.   0.   0.5  1. ]\n",
            " [ 0.   0.   0.   0.   0.5  1. ]]\n"
          ]
        }
      ]
    },
    {
      "cell_type": "code",
      "source": [
        "def one_at_a_time(y, w, alpha):\n",
        "    count = 0\n",
        "    itr = 0\n",
        "    len_y = y.shape[0]\n",
        "    \n",
        "    while count != len_y:\n",
        "        itr += 1\n",
        "        count = 0\n",
        "        \n",
        "        for i in range(len_y):\n",
        "            g = np.dot(y[i], np.transpose(w))\n",
        "            \n",
        "            if g <= 0:\n",
        "                w = w + alpha * y[i]\n",
        "            else:\n",
        "                count += 1\n",
        " \n",
        "    return itr "
      ],
      "metadata": {
        "id": "6ljqjos_R8SO"
      },
      "execution_count": null,
      "outputs": []
    },
    {
      "cell_type": "code",
      "source": [
        "def many_at_a_time(y, w, alpha):\n",
        "    count = 0\n",
        "    itr = 0\n",
        "    len_y = y.shape[0]\n",
        "   \n",
        "    while count != len_y:\n",
        "        itr += 1\n",
        "        count = 0\n",
        "        y_miss = np.zeros((1, y.shape[1]))\n",
        "       \n",
        "        for i in range(len_y):\n",
        "            g = np.dot(y[i], np.transpose(w))\n",
        "            \n",
        "            if g <= 0:\n",
        "                y_miss = y_miss + y[i]\n",
        "            else:\n",
        "                count += 1\n",
        "        w = w + alpha * y_miss\n",
        "    \n",
        "    return itr "
      ],
      "metadata": {
        "id": "2vLOY4H1SBVP"
      },
      "execution_count": null,
      "outputs": []
    },
    {
      "cell_type": "code",
      "source": [
        "np.random.seed(2)\n",
        "\n",
        "# weight initializations\n",
        "w_ones = np.ones((1, y.shape[1]))\n",
        "w_zeros = np.zeros((1, y.shape[1]))\n",
        "w_random = np.random.random((1, y.shape[1]))\n",
        "\n",
        "# learning rate \n",
        "#alphas = np.arange(0.1, 1.1, 0.1)\n",
        "alphas = np.arange(0.1, 1.1, 0.1)\n",
        "\n",
        "#list for output\n",
        "one_ones, one_zeros, one_random, many_ones, many_zeros, many_random = [], [], [], [], [], []\n",
        "\n",
        "for alpha in alphas:\n",
        "    one_ones.append( one_at_a_time(y, w_ones, alpha) )\n",
        "    one_zeros.append( one_at_a_time(y, w_zeros, alpha) )\n",
        "    one_random.append( one_at_a_time(y, w_random, alpha) )\n",
        "    many_ones.append( many_at_a_time(y, w_ones, alpha) )\n",
        "    many_zeros.append( many_at_a_time(y, w_zeros, alpha) )\n",
        "    many_random.append( many_at_a_time(y, w_random, alpha) )\n",
        "    \n",
        "print('one at a time with wights all ones:', one_ones)\n",
        "print('one at a time with wights all zeros:', one_zeros)\n",
        "print('one at a time with wights randomly initialized:', one_random)\n",
        "print('many at a time with wights all ones:', many_ones)\n",
        "print('many at a time with wights all zeros:', many_zeros)\n",
        "print('many at a time with wights randomly initialized:', many_random)"
      ],
      "metadata": {
        "id": "t0hXPeagZbnd"
      },
      "execution_count": null,
      "outputs": []
    }
  ]
}